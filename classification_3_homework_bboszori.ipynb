{
  "nbformat": 4,
  "nbformat_minor": 0,
  "metadata": {
    "colab": {
      "provenance": [],
      "collapsed_sections": [
        "kuU9Mn2802Ty",
        "S1bd39h30-A5",
        "D9-Rclga1ErO",
        "ayirbFIQ938b",
        "ht8NrAfvAmsx",
        "lzSxtYB8rcJ_",
        "llChHZT20P4a",
        "-lyolpR1HQ8p",
        "pIGxk0NOu5Jy",
        "pNKhC2Dkryuy",
        "HjBej__KsXdp",
        "7QRW1QD2syYn",
        "RaJ7Nj48s8oz",
        "uquNRExLtEQL",
        "Ew-d_9FotK8H",
        "UvVYgvt1trzN"
      ],
      "authorship_tag": "ABX9TyM8jKERBxXVHQGEV+uO03E1",
      "include_colab_link": true
    },
    "kernelspec": {
      "name": "python3",
      "display_name": "Python 3"
    },
    "language_info": {
      "name": "python"
    }
  },
  "cells": [
    {
      "cell_type": "markdown",
      "metadata": {
        "id": "view-in-github",
        "colab_type": "text"
      },
      "source": [
        "<a href=\"https://colab.research.google.com/github/bboszori/data_science_tasks/blob/main/classification_3_homework_bboszori.ipynb\" target=\"_parent\"><img src=\"https://colab.research.google.com/assets/colab-badge.svg\" alt=\"Open In Colab\"/></a>"
      ]
    },
    {
      "cell_type": "markdown",
      "source": [
        "# Classification homework"
      ],
      "metadata": {
        "id": "nAXgniGpChuf"
      }
    },
    {
      "cell_type": "markdown",
      "source": [
        "## Saving data from Kaggle"
      ],
      "metadata": {
        "id": "kuU9Mn2802Ty"
      }
    },
    {
      "cell_type": "code",
      "source": [
        "! pip install kaggle --quiet"
      ],
      "metadata": {
        "id": "kY2JlOQA_lBp"
      },
      "execution_count": null,
      "outputs": []
    },
    {
      "cell_type": "code",
      "source": [
        "! mkdir '/content/gdrive/MyDrive/Data_Science_mentoring/07_classification_3/kaggle_data'"
      ],
      "metadata": {
        "id": "lPqmcirI_k7w"
      },
      "execution_count": null,
      "outputs": []
    },
    {
      "cell_type": "code",
      "source": [
        "! kaggle competitions download -c epamdscourseclassification32022"
      ],
      "metadata": {
        "colab": {
          "base_uri": "https://localhost:8080/"
        },
        "id": "KnCDtm3y_k-r",
        "outputId": "8d8a320c-ee38-4885-a5cb-0c47c3eb5b7f"
      },
      "execution_count": null,
      "outputs": [
        {
          "output_type": "stream",
          "name": "stdout",
          "text": [
            "Downloading epamdscourseclassification32022.zip to /content\n",
            "\r  0% 0.00/12.4M [00:00<?, ?B/s]\r 40% 5.00M/12.4M [00:00<00:00, 29.4MB/s]\n",
            "\r100% 12.4M/12.4M [00:00<00:00, 60.2MB/s]\n"
          ]
        }
      ]
    },
    {
      "cell_type": "code",
      "source": [
        "! unzip {\"epamdscourseclassification32022\" + \".zip\"} -d '/content/gdrive/MyDrive/Data_Science_mentoring/07_classification_3/kaggle_data'"
      ],
      "metadata": {
        "colab": {
          "base_uri": "https://localhost:8080/"
        },
        "id": "FIUqmK_yA0E3",
        "outputId": "6a5c927d-d266-4cab-c384-600eeb0c3d0b"
      },
      "execution_count": null,
      "outputs": [
        {
          "output_type": "stream",
          "name": "stdout",
          "text": [
            "Archive:  epamdscourseclassification32022.zip\n",
            "  inflating: /content/gdrive/MyDrive/Data_Science_mentoring/07_classification_3/kaggle_data/id_map.parquet  \n",
            "  inflating: /content/gdrive/MyDrive/Data_Science_mentoring/07_classification_3/kaggle_data/test.csv  \n",
            "  inflating: /content/gdrive/MyDrive/Data_Science_mentoring/07_classification_3/kaggle_data/train.csv  \n"
          ]
        }
      ]
    },
    {
      "cell_type": "code",
      "source": [
        "from google.colab import drive\n",
        "drive.mount('/content/gdrive')"
      ],
      "metadata": {
        "colab": {
          "base_uri": "https://localhost:8080/"
        },
        "id": "IrEVOf8xA0CE",
        "outputId": "208d637c-e3b2-47af-ccaa-9018361010a5"
      },
      "execution_count": null,
      "outputs": [
        {
          "output_type": "stream",
          "name": "stdout",
          "text": [
            "Mounted at /content/gdrive\n"
          ]
        }
      ]
    },
    {
      "cell_type": "code",
      "source": [
        "! ls '/content/gdrive/MyDrive/Data_Science_mentoring/07_classification_3/kaggle_data'"
      ],
      "metadata": {
        "colab": {
          "base_uri": "https://localhost:8080/"
        },
        "id": "DMtyXLoUGzMo",
        "outputId": "efc48cb2-009e-44f3-d29d-10eaf440a7b3"
      },
      "execution_count": null,
      "outputs": [
        {
          "output_type": "stream",
          "name": "stdout",
          "text": [
            "id_map.parquet\tmapping.csv  test.csv  train.csv\n"
          ]
        }
      ]
    },
    {
      "cell_type": "markdown",
      "source": [
        "## Importing libraries"
      ],
      "metadata": {
        "id": "S1bd39h30-A5"
      }
    },
    {
      "cell_type": "code",
      "source": [
        "!pip install tldextract"
      ],
      "metadata": {
        "id": "SZUXXG09fq3L",
        "colab": {
          "base_uri": "https://localhost:8080/"
        },
        "outputId": "53b132b6-50b9-427b-c74b-32cb25850f49"
      },
      "execution_count": null,
      "outputs": [
        {
          "output_type": "stream",
          "name": "stdout",
          "text": [
            "Collecting tldextract\n",
            "  Downloading tldextract-5.1.1-py3-none-any.whl (97 kB)\n",
            "\u001b[?25l     \u001b[90m━━━━━━━━━━━━━━━━━━━━━━━━━━━━━━━━━━━━━━━━\u001b[0m \u001b[32m0.0/97.7 kB\u001b[0m \u001b[31m?\u001b[0m eta \u001b[36m-:--:--\u001b[0m\r\u001b[2K     \u001b[90m━━━━━━━━━━━━━━━━━━━━━━━━━━━━━━━━━━━━━━━━\u001b[0m \u001b[32m97.7/97.7 kB\u001b[0m \u001b[31m2.8 MB/s\u001b[0m eta \u001b[36m0:00:00\u001b[0m\n",
            "\u001b[?25hRequirement already satisfied: idna in /usr/local/lib/python3.10/dist-packages (from tldextract) (3.6)\n",
            "Requirement already satisfied: requests>=2.1.0 in /usr/local/lib/python3.10/dist-packages (from tldextract) (2.31.0)\n",
            "Collecting requests-file>=1.4 (from tldextract)\n",
            "  Downloading requests_file-1.5.1-py2.py3-none-any.whl (3.7 kB)\n",
            "Requirement already satisfied: filelock>=3.0.8 in /usr/local/lib/python3.10/dist-packages (from tldextract) (3.13.1)\n",
            "Requirement already satisfied: charset-normalizer<4,>=2 in /usr/local/lib/python3.10/dist-packages (from requests>=2.1.0->tldextract) (3.3.2)\n",
            "Requirement already satisfied: urllib3<3,>=1.21.1 in /usr/local/lib/python3.10/dist-packages (from requests>=2.1.0->tldextract) (2.0.7)\n",
            "Requirement already satisfied: certifi>=2017.4.17 in /usr/local/lib/python3.10/dist-packages (from requests>=2.1.0->tldextract) (2023.11.17)\n",
            "Requirement already satisfied: six in /usr/local/lib/python3.10/dist-packages (from requests-file>=1.4->tldextract) (1.16.0)\n",
            "Installing collected packages: requests-file, tldextract\n",
            "Successfully installed requests-file-1.5.1 tldextract-5.1.1\n"
          ]
        }
      ]
    },
    {
      "cell_type": "code",
      "source": [
        "pip install catboost"
      ],
      "metadata": {
        "colab": {
          "base_uri": "https://localhost:8080/"
        },
        "id": "L7l1jcy0KDHT",
        "outputId": "9df002a2-517b-4207-810e-7c5e6b6ca42c"
      },
      "execution_count": null,
      "outputs": [
        {
          "output_type": "stream",
          "name": "stdout",
          "text": [
            "Collecting catboost\n",
            "  Downloading catboost-1.2.2-cp310-cp310-manylinux2014_x86_64.whl (98.7 MB)\n",
            "\u001b[2K     \u001b[90m━━━━━━━━━━━━━━━━━━━━━━━━━━━━━━━━━━━━━━━━\u001b[0m \u001b[32m98.7/98.7 MB\u001b[0m \u001b[31m5.9 MB/s\u001b[0m eta \u001b[36m0:00:00\u001b[0m\n",
            "\u001b[?25hRequirement already satisfied: graphviz in /usr/local/lib/python3.10/dist-packages (from catboost) (0.20.1)\n",
            "Requirement already satisfied: matplotlib in /usr/local/lib/python3.10/dist-packages (from catboost) (3.7.1)\n",
            "Requirement already satisfied: numpy>=1.16.0 in /usr/local/lib/python3.10/dist-packages (from catboost) (1.23.5)\n",
            "Requirement already satisfied: pandas>=0.24 in /usr/local/lib/python3.10/dist-packages (from catboost) (1.5.3)\n",
            "Requirement already satisfied: scipy in /usr/local/lib/python3.10/dist-packages (from catboost) (1.11.4)\n",
            "Requirement already satisfied: plotly in /usr/local/lib/python3.10/dist-packages (from catboost) (5.15.0)\n",
            "Requirement already satisfied: six in /usr/local/lib/python3.10/dist-packages (from catboost) (1.16.0)\n",
            "Requirement already satisfied: python-dateutil>=2.8.1 in /usr/local/lib/python3.10/dist-packages (from pandas>=0.24->catboost) (2.8.2)\n",
            "Requirement already satisfied: pytz>=2020.1 in /usr/local/lib/python3.10/dist-packages (from pandas>=0.24->catboost) (2023.3.post1)\n",
            "Requirement already satisfied: contourpy>=1.0.1 in /usr/local/lib/python3.10/dist-packages (from matplotlib->catboost) (1.2.0)\n",
            "Requirement already satisfied: cycler>=0.10 in /usr/local/lib/python3.10/dist-packages (from matplotlib->catboost) (0.12.1)\n",
            "Requirement already satisfied: fonttools>=4.22.0 in /usr/local/lib/python3.10/dist-packages (from matplotlib->catboost) (4.45.1)\n",
            "Requirement already satisfied: kiwisolver>=1.0.1 in /usr/local/lib/python3.10/dist-packages (from matplotlib->catboost) (1.4.5)\n",
            "Requirement already satisfied: packaging>=20.0 in /usr/local/lib/python3.10/dist-packages (from matplotlib->catboost) (23.2)\n",
            "Requirement already satisfied: pillow>=6.2.0 in /usr/local/lib/python3.10/dist-packages (from matplotlib->catboost) (9.4.0)\n",
            "Requirement already satisfied: pyparsing>=2.3.1 in /usr/local/lib/python3.10/dist-packages (from matplotlib->catboost) (3.1.1)\n",
            "Requirement already satisfied: tenacity>=6.2.0 in /usr/local/lib/python3.10/dist-packages (from plotly->catboost) (8.2.3)\n",
            "Installing collected packages: catboost\n",
            "Successfully installed catboost-1.2.2\n"
          ]
        }
      ]
    },
    {
      "cell_type": "code",
      "source": [
        "import pandas as pd\n",
        "import numpy as np\n",
        "import os\n",
        "import random\n",
        "import warnings\n",
        "warnings.filterwarnings('ignore')\n",
        "\n",
        "import seaborn as sns\n",
        "import matplotlib.pyplot as plt\n",
        "\n",
        "from pathlib import Path\n",
        "\n",
        "import re\n",
        "import string\n",
        "import tldextract\n",
        "\n",
        "from sklearn.model_selection import train_test_split, GridSearchCV, StratifiedKFold, cross_val_score\n",
        "from sklearn.metrics import roc_auc_score, make_scorer\n",
        "from sklearn.pipeline import Pipeline, make_pipeline\n",
        "from sklearn.tree import DecisionTreeClassifier\n",
        "from sklearn.ensemble import RandomForestClassifier\n",
        "import xgboost as xgb\n",
        "from xgboost import XGBClassifier\n",
        "from lightgbm import LGBMClassifier\n",
        "from catboost import CatBoostClassifier\n",
        "\n",
        "import hyperopt\n",
        "from hyperopt import hp, tpe, fmin, STATUS_OK\n",
        "\n",
        "from sklearn.base import BaseEstimator, TransformerMixin\n",
        "from sklearn.pipeline import Pipeline\n",
        "from sklearn.pipeline import FeatureUnion\n",
        "from sklearn.feature_extraction.text import CountVectorizer\n",
        "\n",
        "from plotly import subplots\n",
        "import plotly.offline as py\n",
        "py.init_notebook_mode(connected=True)\n",
        "import plotly.graph_objs as go\n",
        "\n",
        "plt.rcParams['figure.figsize'] = 10, 7\n",
        "plt.style.use('ggplot')\n",
        "\n",
        "from IPython.core.interactiveshell import InteractiveShell\n",
        "InteractiveShell.ast_node_interactivity = 'all'"
      ],
      "metadata": {
        "id": "khg1Mjh5F7TG",
        "colab": {
          "base_uri": "https://localhost:8080/"
        },
        "outputId": "279d3414-bcca-4051-9181-5f9b59624010"
      },
      "execution_count": null,
      "outputs": [
        {
          "output_type": "display_data",
          "data": {
            "text/html": [
              "        <script type=\"text/javascript\">\n",
              "        window.PlotlyConfig = {MathJaxConfig: 'local'};\n",
              "        if (window.MathJax && window.MathJax.Hub && window.MathJax.Hub.Config) {window.MathJax.Hub.Config({SVG: {font: \"STIX-Web\"}});}\n",
              "        if (typeof require !== 'undefined') {\n",
              "        require.undef(\"plotly\");\n",
              "        requirejs.config({\n",
              "            paths: {\n",
              "                'plotly': ['https://cdn.plot.ly/plotly-2.24.1.min']\n",
              "            }\n",
              "        });\n",
              "        require(['plotly'], function(Plotly) {\n",
              "            window._Plotly = Plotly;\n",
              "        });\n",
              "        }\n",
              "        </script>\n",
              "        "
            ]
          },
          "metadata": {}
        }
      ]
    },
    {
      "cell_type": "markdown",
      "source": [
        "## Loading data"
      ],
      "metadata": {
        "id": "D9-Rclga1ErO"
      }
    },
    {
      "cell_type": "code",
      "source": [
        "# Commonly used constants and paths\n",
        "SEED = 42\n",
        "DATA_PATH = '/content/gdrive/MyDrive/Data_Science_mentoring/07_classification_3/kaggle_data'\n",
        "TRAIN_FILE = f'{DATA_PATH}/train.csv'\n",
        "TEST_FILE = f'{DATA_PATH}/test.csv'\n",
        "ID_MAP = f'{DATA_PATH}/id_map.parquet'\n",
        "TARGET = 'target'"
      ],
      "metadata": {
        "id": "PxknKcCMGRgH"
      },
      "execution_count": null,
      "outputs": []
    },
    {
      "cell_type": "code",
      "source": [
        "train_data = pd.read_csv(TRAIN_FILE)\n",
        "train_data.head()"
      ],
      "metadata": {
        "id": "NHQlS26mG5Or",
        "colab": {
          "base_uri": "https://localhost:8080/",
          "height": 322
        },
        "outputId": "a5b69376-5740-4093-f874-a79861b61fb2"
      },
      "execution_count": null,
      "outputs": [
        {
          "output_type": "execute_result",
          "data": {
            "text/plain": [
              "   session_id  webpage1                time1  webpage2                time2  \\\n",
              "0           0      9486  2019-02-20 05:57:45       NaN                  NaN   \n",
              "1           1     11722  2019-02-22 07:14:50   12385.0  2019-02-22 07:14:50   \n",
              "2           2    192149  2018-12-16 12:35:17     659.0  2018-12-16 12:35:18   \n",
              "3           3     10591  2019-02-13 12:40:35     451.0  2019-02-13 12:40:35   \n",
              "4           4       438  2018-04-12 06:22:26     425.0  2018-04-12 06:22:26   \n",
              "\n",
              "   webpage3                time3  webpage4                time4  webpage5  \\\n",
              "0       NaN                  NaN       NaN                  NaN       NaN   \n",
              "1   50163.0  2019-02-22 07:14:51   12385.0  2019-02-22 07:14:51   12398.0   \n",
              "2  192136.0  2018-12-16 12:35:19  192149.0  2018-12-16 12:35:19     633.0   \n",
              "3   77580.0  2019-02-13 12:40:35  227821.0  2019-02-13 12:40:35     633.0   \n",
              "4     529.0  2018-04-12 06:22:28   65685.0  2018-04-12 06:22:29  187638.0   \n",
              "\n",
              "   ...                time6  webpage7                time7  webpage8  \\\n",
              "0  ...                  NaN       NaN                  NaN       NaN   \n",
              "1  ...  2019-02-22 07:14:51   50163.0  2019-02-22 07:14:52   50150.0   \n",
              "2  ...  2018-12-16 12:35:19  192136.0  2018-12-16 12:35:20  192136.0   \n",
              "3  ...  2019-02-13 12:42:14   10591.0  2019-02-13 12:42:14  227834.0   \n",
              "4  ...  2018-04-12 06:22:29     425.0  2018-04-12 06:22:29   65685.0   \n",
              "\n",
              "                 time8  webpage9                time9  webpage10  \\\n",
              "0                  NaN       NaN                  NaN        NaN   \n",
              "1  2019-02-22 07:14:52   19860.0  2019-02-22 07:15:15    19886.0   \n",
              "2  2018-12-16 12:35:21  192136.0  2018-12-16 12:35:22   192136.0   \n",
              "3  2019-02-13 12:42:15  227834.0  2019-02-13 12:42:16   227834.0   \n",
              "4  2018-04-12 06:22:31  187625.0  2018-04-12 06:22:31   187625.0   \n",
              "\n",
              "                time10  target  \n",
              "0                  NaN       0  \n",
              "1  2019-02-22 07:15:16       0  \n",
              "2  2018-12-16 12:35:24       0  \n",
              "3  2019-02-13 12:42:17       0  \n",
              "4  2018-04-12 06:22:32       0  \n",
              "\n",
              "[5 rows x 22 columns]"
            ],
            "text/html": [
              "\n",
              "  <div id=\"df-35b09d08-7f1f-41fc-b420-6e1a5fa09280\" class=\"colab-df-container\">\n",
              "    <div>\n",
              "<style scoped>\n",
              "    .dataframe tbody tr th:only-of-type {\n",
              "        vertical-align: middle;\n",
              "    }\n",
              "\n",
              "    .dataframe tbody tr th {\n",
              "        vertical-align: top;\n",
              "    }\n",
              "\n",
              "    .dataframe thead th {\n",
              "        text-align: right;\n",
              "    }\n",
              "</style>\n",
              "<table border=\"1\" class=\"dataframe\">\n",
              "  <thead>\n",
              "    <tr style=\"text-align: right;\">\n",
              "      <th></th>\n",
              "      <th>session_id</th>\n",
              "      <th>webpage1</th>\n",
              "      <th>time1</th>\n",
              "      <th>webpage2</th>\n",
              "      <th>time2</th>\n",
              "      <th>webpage3</th>\n",
              "      <th>time3</th>\n",
              "      <th>webpage4</th>\n",
              "      <th>time4</th>\n",
              "      <th>webpage5</th>\n",
              "      <th>...</th>\n",
              "      <th>time6</th>\n",
              "      <th>webpage7</th>\n",
              "      <th>time7</th>\n",
              "      <th>webpage8</th>\n",
              "      <th>time8</th>\n",
              "      <th>webpage9</th>\n",
              "      <th>time9</th>\n",
              "      <th>webpage10</th>\n",
              "      <th>time10</th>\n",
              "      <th>target</th>\n",
              "    </tr>\n",
              "  </thead>\n",
              "  <tbody>\n",
              "    <tr>\n",
              "      <th>0</th>\n",
              "      <td>0</td>\n",
              "      <td>9486</td>\n",
              "      <td>2019-02-20 05:57:45</td>\n",
              "      <td>NaN</td>\n",
              "      <td>NaN</td>\n",
              "      <td>NaN</td>\n",
              "      <td>NaN</td>\n",
              "      <td>NaN</td>\n",
              "      <td>NaN</td>\n",
              "      <td>NaN</td>\n",
              "      <td>...</td>\n",
              "      <td>NaN</td>\n",
              "      <td>NaN</td>\n",
              "      <td>NaN</td>\n",
              "      <td>NaN</td>\n",
              "      <td>NaN</td>\n",
              "      <td>NaN</td>\n",
              "      <td>NaN</td>\n",
              "      <td>NaN</td>\n",
              "      <td>NaN</td>\n",
              "      <td>0</td>\n",
              "    </tr>\n",
              "    <tr>\n",
              "      <th>1</th>\n",
              "      <td>1</td>\n",
              "      <td>11722</td>\n",
              "      <td>2019-02-22 07:14:50</td>\n",
              "      <td>12385.0</td>\n",
              "      <td>2019-02-22 07:14:50</td>\n",
              "      <td>50163.0</td>\n",
              "      <td>2019-02-22 07:14:51</td>\n",
              "      <td>12385.0</td>\n",
              "      <td>2019-02-22 07:14:51</td>\n",
              "      <td>12398.0</td>\n",
              "      <td>...</td>\n",
              "      <td>2019-02-22 07:14:51</td>\n",
              "      <td>50163.0</td>\n",
              "      <td>2019-02-22 07:14:52</td>\n",
              "      <td>50150.0</td>\n",
              "      <td>2019-02-22 07:14:52</td>\n",
              "      <td>19860.0</td>\n",
              "      <td>2019-02-22 07:15:15</td>\n",
              "      <td>19886.0</td>\n",
              "      <td>2019-02-22 07:15:16</td>\n",
              "      <td>0</td>\n",
              "    </tr>\n",
              "    <tr>\n",
              "      <th>2</th>\n",
              "      <td>2</td>\n",
              "      <td>192149</td>\n",
              "      <td>2018-12-16 12:35:17</td>\n",
              "      <td>659.0</td>\n",
              "      <td>2018-12-16 12:35:18</td>\n",
              "      <td>192136.0</td>\n",
              "      <td>2018-12-16 12:35:19</td>\n",
              "      <td>192149.0</td>\n",
              "      <td>2018-12-16 12:35:19</td>\n",
              "      <td>633.0</td>\n",
              "      <td>...</td>\n",
              "      <td>2018-12-16 12:35:19</td>\n",
              "      <td>192136.0</td>\n",
              "      <td>2018-12-16 12:35:20</td>\n",
              "      <td>192136.0</td>\n",
              "      <td>2018-12-16 12:35:21</td>\n",
              "      <td>192136.0</td>\n",
              "      <td>2018-12-16 12:35:22</td>\n",
              "      <td>192136.0</td>\n",
              "      <td>2018-12-16 12:35:24</td>\n",
              "      <td>0</td>\n",
              "    </tr>\n",
              "    <tr>\n",
              "      <th>3</th>\n",
              "      <td>3</td>\n",
              "      <td>10591</td>\n",
              "      <td>2019-02-13 12:40:35</td>\n",
              "      <td>451.0</td>\n",
              "      <td>2019-02-13 12:40:35</td>\n",
              "      <td>77580.0</td>\n",
              "      <td>2019-02-13 12:40:35</td>\n",
              "      <td>227821.0</td>\n",
              "      <td>2019-02-13 12:40:35</td>\n",
              "      <td>633.0</td>\n",
              "      <td>...</td>\n",
              "      <td>2019-02-13 12:42:14</td>\n",
              "      <td>10591.0</td>\n",
              "      <td>2019-02-13 12:42:14</td>\n",
              "      <td>227834.0</td>\n",
              "      <td>2019-02-13 12:42:15</td>\n",
              "      <td>227834.0</td>\n",
              "      <td>2019-02-13 12:42:16</td>\n",
              "      <td>227834.0</td>\n",
              "      <td>2019-02-13 12:42:17</td>\n",
              "      <td>0</td>\n",
              "    </tr>\n",
              "    <tr>\n",
              "      <th>4</th>\n",
              "      <td>4</td>\n",
              "      <td>438</td>\n",
              "      <td>2018-04-12 06:22:26</td>\n",
              "      <td>425.0</td>\n",
              "      <td>2018-04-12 06:22:26</td>\n",
              "      <td>529.0</td>\n",
              "      <td>2018-04-12 06:22:28</td>\n",
              "      <td>65685.0</td>\n",
              "      <td>2018-04-12 06:22:29</td>\n",
              "      <td>187638.0</td>\n",
              "      <td>...</td>\n",
              "      <td>2018-04-12 06:22:29</td>\n",
              "      <td>425.0</td>\n",
              "      <td>2018-04-12 06:22:29</td>\n",
              "      <td>65685.0</td>\n",
              "      <td>2018-04-12 06:22:31</td>\n",
              "      <td>187625.0</td>\n",
              "      <td>2018-04-12 06:22:31</td>\n",
              "      <td>187625.0</td>\n",
              "      <td>2018-04-12 06:22:32</td>\n",
              "      <td>0</td>\n",
              "    </tr>\n",
              "  </tbody>\n",
              "</table>\n",
              "<p>5 rows × 22 columns</p>\n",
              "</div>\n",
              "    <div class=\"colab-df-buttons\">\n",
              "\n",
              "  <div class=\"colab-df-container\">\n",
              "    <button class=\"colab-df-convert\" onclick=\"convertToInteractive('df-35b09d08-7f1f-41fc-b420-6e1a5fa09280')\"\n",
              "            title=\"Convert this dataframe to an interactive table.\"\n",
              "            style=\"display:none;\">\n",
              "\n",
              "  <svg xmlns=\"http://www.w3.org/2000/svg\" height=\"24px\" viewBox=\"0 -960 960 960\">\n",
              "    <path d=\"M120-120v-720h720v720H120Zm60-500h600v-160H180v160Zm220 220h160v-160H400v160Zm0 220h160v-160H400v160ZM180-400h160v-160H180v160Zm440 0h160v-160H620v160ZM180-180h160v-160H180v160Zm440 0h160v-160H620v160Z\"/>\n",
              "  </svg>\n",
              "    </button>\n",
              "\n",
              "  <style>\n",
              "    .colab-df-container {\n",
              "      display:flex;\n",
              "      gap: 12px;\n",
              "    }\n",
              "\n",
              "    .colab-df-convert {\n",
              "      background-color: #E8F0FE;\n",
              "      border: none;\n",
              "      border-radius: 50%;\n",
              "      cursor: pointer;\n",
              "      display: none;\n",
              "      fill: #1967D2;\n",
              "      height: 32px;\n",
              "      padding: 0 0 0 0;\n",
              "      width: 32px;\n",
              "    }\n",
              "\n",
              "    .colab-df-convert:hover {\n",
              "      background-color: #E2EBFA;\n",
              "      box-shadow: 0px 1px 2px rgba(60, 64, 67, 0.3), 0px 1px 3px 1px rgba(60, 64, 67, 0.15);\n",
              "      fill: #174EA6;\n",
              "    }\n",
              "\n",
              "    .colab-df-buttons div {\n",
              "      margin-bottom: 4px;\n",
              "    }\n",
              "\n",
              "    [theme=dark] .colab-df-convert {\n",
              "      background-color: #3B4455;\n",
              "      fill: #D2E3FC;\n",
              "    }\n",
              "\n",
              "    [theme=dark] .colab-df-convert:hover {\n",
              "      background-color: #434B5C;\n",
              "      box-shadow: 0px 1px 3px 1px rgba(0, 0, 0, 0.15);\n",
              "      filter: drop-shadow(0px 1px 2px rgba(0, 0, 0, 0.3));\n",
              "      fill: #FFFFFF;\n",
              "    }\n",
              "  </style>\n",
              "\n",
              "    <script>\n",
              "      const buttonEl =\n",
              "        document.querySelector('#df-35b09d08-7f1f-41fc-b420-6e1a5fa09280 button.colab-df-convert');\n",
              "      buttonEl.style.display =\n",
              "        google.colab.kernel.accessAllowed ? 'block' : 'none';\n",
              "\n",
              "      async function convertToInteractive(key) {\n",
              "        const element = document.querySelector('#df-35b09d08-7f1f-41fc-b420-6e1a5fa09280');\n",
              "        const dataTable =\n",
              "          await google.colab.kernel.invokeFunction('convertToInteractive',\n",
              "                                                    [key], {});\n",
              "        if (!dataTable) return;\n",
              "\n",
              "        const docLinkHtml = 'Like what you see? Visit the ' +\n",
              "          '<a target=\"_blank\" href=https://colab.research.google.com/notebooks/data_table.ipynb>data table notebook</a>'\n",
              "          + ' to learn more about interactive tables.';\n",
              "        element.innerHTML = '';\n",
              "        dataTable['output_type'] = 'display_data';\n",
              "        await google.colab.output.renderOutput(dataTable, element);\n",
              "        const docLink = document.createElement('div');\n",
              "        docLink.innerHTML = docLinkHtml;\n",
              "        element.appendChild(docLink);\n",
              "      }\n",
              "    </script>\n",
              "  </div>\n",
              "\n",
              "\n",
              "<div id=\"df-bf08be02-355b-4860-aacc-750337ea6f2d\">\n",
              "  <button class=\"colab-df-quickchart\" onclick=\"quickchart('df-bf08be02-355b-4860-aacc-750337ea6f2d')\"\n",
              "            title=\"Suggest charts\"\n",
              "            style=\"display:none;\">\n",
              "\n",
              "<svg xmlns=\"http://www.w3.org/2000/svg\" height=\"24px\"viewBox=\"0 0 24 24\"\n",
              "     width=\"24px\">\n",
              "    <g>\n",
              "        <path d=\"M19 3H5c-1.1 0-2 .9-2 2v14c0 1.1.9 2 2 2h14c1.1 0 2-.9 2-2V5c0-1.1-.9-2-2-2zM9 17H7v-7h2v7zm4 0h-2V7h2v10zm4 0h-2v-4h2v4z\"/>\n",
              "    </g>\n",
              "</svg>\n",
              "  </button>\n",
              "\n",
              "<style>\n",
              "  .colab-df-quickchart {\n",
              "      --bg-color: #E8F0FE;\n",
              "      --fill-color: #1967D2;\n",
              "      --hover-bg-color: #E2EBFA;\n",
              "      --hover-fill-color: #174EA6;\n",
              "      --disabled-fill-color: #AAA;\n",
              "      --disabled-bg-color: #DDD;\n",
              "  }\n",
              "\n",
              "  [theme=dark] .colab-df-quickchart {\n",
              "      --bg-color: #3B4455;\n",
              "      --fill-color: #D2E3FC;\n",
              "      --hover-bg-color: #434B5C;\n",
              "      --hover-fill-color: #FFFFFF;\n",
              "      --disabled-bg-color: #3B4455;\n",
              "      --disabled-fill-color: #666;\n",
              "  }\n",
              "\n",
              "  .colab-df-quickchart {\n",
              "    background-color: var(--bg-color);\n",
              "    border: none;\n",
              "    border-radius: 50%;\n",
              "    cursor: pointer;\n",
              "    display: none;\n",
              "    fill: var(--fill-color);\n",
              "    height: 32px;\n",
              "    padding: 0;\n",
              "    width: 32px;\n",
              "  }\n",
              "\n",
              "  .colab-df-quickchart:hover {\n",
              "    background-color: var(--hover-bg-color);\n",
              "    box-shadow: 0 1px 2px rgba(60, 64, 67, 0.3), 0 1px 3px 1px rgba(60, 64, 67, 0.15);\n",
              "    fill: var(--button-hover-fill-color);\n",
              "  }\n",
              "\n",
              "  .colab-df-quickchart-complete:disabled,\n",
              "  .colab-df-quickchart-complete:disabled:hover {\n",
              "    background-color: var(--disabled-bg-color);\n",
              "    fill: var(--disabled-fill-color);\n",
              "    box-shadow: none;\n",
              "  }\n",
              "\n",
              "  .colab-df-spinner {\n",
              "    border: 2px solid var(--fill-color);\n",
              "    border-color: transparent;\n",
              "    border-bottom-color: var(--fill-color);\n",
              "    animation:\n",
              "      spin 1s steps(1) infinite;\n",
              "  }\n",
              "\n",
              "  @keyframes spin {\n",
              "    0% {\n",
              "      border-color: transparent;\n",
              "      border-bottom-color: var(--fill-color);\n",
              "      border-left-color: var(--fill-color);\n",
              "    }\n",
              "    20% {\n",
              "      border-color: transparent;\n",
              "      border-left-color: var(--fill-color);\n",
              "      border-top-color: var(--fill-color);\n",
              "    }\n",
              "    30% {\n",
              "      border-color: transparent;\n",
              "      border-left-color: var(--fill-color);\n",
              "      border-top-color: var(--fill-color);\n",
              "      border-right-color: var(--fill-color);\n",
              "    }\n",
              "    40% {\n",
              "      border-color: transparent;\n",
              "      border-right-color: var(--fill-color);\n",
              "      border-top-color: var(--fill-color);\n",
              "    }\n",
              "    60% {\n",
              "      border-color: transparent;\n",
              "      border-right-color: var(--fill-color);\n",
              "    }\n",
              "    80% {\n",
              "      border-color: transparent;\n",
              "      border-right-color: var(--fill-color);\n",
              "      border-bottom-color: var(--fill-color);\n",
              "    }\n",
              "    90% {\n",
              "      border-color: transparent;\n",
              "      border-bottom-color: var(--fill-color);\n",
              "    }\n",
              "  }\n",
              "</style>\n",
              "\n",
              "  <script>\n",
              "    async function quickchart(key) {\n",
              "      const quickchartButtonEl =\n",
              "        document.querySelector('#' + key + ' button');\n",
              "      quickchartButtonEl.disabled = true;  // To prevent multiple clicks.\n",
              "      quickchartButtonEl.classList.add('colab-df-spinner');\n",
              "      try {\n",
              "        const charts = await google.colab.kernel.invokeFunction(\n",
              "            'suggestCharts', [key], {});\n",
              "      } catch (error) {\n",
              "        console.error('Error during call to suggestCharts:', error);\n",
              "      }\n",
              "      quickchartButtonEl.classList.remove('colab-df-spinner');\n",
              "      quickchartButtonEl.classList.add('colab-df-quickchart-complete');\n",
              "    }\n",
              "    (() => {\n",
              "      let quickchartButtonEl =\n",
              "        document.querySelector('#df-bf08be02-355b-4860-aacc-750337ea6f2d button');\n",
              "      quickchartButtonEl.style.display =\n",
              "        google.colab.kernel.accessAllowed ? 'block' : 'none';\n",
              "    })();\n",
              "  </script>\n",
              "</div>\n",
              "    </div>\n",
              "  </div>\n"
            ]
          },
          "metadata": {},
          "execution_count": 8
        }
      ]
    },
    {
      "cell_type": "code",
      "source": [
        "test_data = pd.read_csv(TEST_FILE)\n",
        "test_data.head()"
      ],
      "metadata": {
        "id": "lWD1nFRCeUe6",
        "colab": {
          "base_uri": "https://localhost:8080/",
          "height": 322
        },
        "outputId": "f085edc8-a410-415d-9905-73cb60e1e14f"
      },
      "execution_count": null,
      "outputs": [
        {
          "output_type": "execute_result",
          "data": {
            "text/plain": [
              "   session_id  webpage1                time1  webpage2                time2  \\\n",
              "0           0     10318  2019-03-28 06:47:12   10318.0  2019-03-28 06:47:42   \n",
              "1           1       438  2019-02-28 06:48:05    2453.0  2019-02-28 06:50:22   \n",
              "2           2      7562  2019-03-18 11:13:31     425.0  2019-03-18 11:13:39   \n",
              "3           3      8836  2019-03-17 12:18:08   12372.0  2019-03-17 12:18:35   \n",
              "4           4       451  2019-03-31 09:46:43    9863.0  2019-03-31 09:46:44   \n",
              "\n",
              "   webpage3                time3  webpage4                time4  webpage5  \\\n",
              "0   10318.0  2019-03-28 06:48:12   10318.0  2019-03-28 06:48:42   10318.0   \n",
              "1    2427.0  2019-02-28 06:50:22    2466.0  2019-02-28 06:50:23    2453.0   \n",
              "2    7562.0  2019-03-18 11:18:02     425.0  2019-03-18 11:18:43     425.0   \n",
              "3   12398.0  2019-03-17 12:18:35   12385.0  2019-03-17 12:18:35   12385.0   \n",
              "4     451.0  2019-03-31 09:46:46    9889.0  2019-03-31 09:46:46     451.0   \n",
              "\n",
              "   ... webpage6                time6 webpage7                time7 webpage8  \\\n",
              "0  ...  10318.0  2019-03-28 06:49:42  10318.0  2019-03-28 06:50:12  10318.0   \n",
              "1  ...   2466.0  2019-02-28 06:50:59   2427.0  2019-02-28 06:50:59   2453.0   \n",
              "2  ...      NaN                  NaN      NaN                  NaN      NaN   \n",
              "3  ...  12398.0  2019-03-17 12:18:36  12372.0  2019-03-17 12:18:36    451.0   \n",
              "4  ...    425.0  2019-03-31 09:47:46   9928.0  2019-03-31 09:49:43    867.0   \n",
              "\n",
              "                 time8 webpage9                time9 webpage10  \\\n",
              "0  2019-03-28 06:50:42  10318.0  2019-03-28 06:51:12   10318.0   \n",
              "1  2019-02-28 06:50:59   2453.0  2019-02-28 06:52:06    2466.0   \n",
              "2                  NaN      NaN                  NaN       NaN   \n",
              "3  2019-03-17 12:18:52    425.0  2019-03-17 12:18:52     438.0   \n",
              "4  2019-03-31 10:05:12    880.0  2019-03-31 10:05:12     867.0   \n",
              "\n",
              "                time10  \n",
              "0  2019-03-28 06:51:42  \n",
              "1  2019-02-28 06:52:11  \n",
              "2                  NaN  \n",
              "3  2019-03-17 12:18:53  \n",
              "4  2019-03-31 10:05:13  \n",
              "\n",
              "[5 rows x 21 columns]"
            ],
            "text/html": [
              "\n",
              "  <div id=\"df-9450d065-d796-44de-87d9-1bb6e484c0b8\" class=\"colab-df-container\">\n",
              "    <div>\n",
              "<style scoped>\n",
              "    .dataframe tbody tr th:only-of-type {\n",
              "        vertical-align: middle;\n",
              "    }\n",
              "\n",
              "    .dataframe tbody tr th {\n",
              "        vertical-align: top;\n",
              "    }\n",
              "\n",
              "    .dataframe thead th {\n",
              "        text-align: right;\n",
              "    }\n",
              "</style>\n",
              "<table border=\"1\" class=\"dataframe\">\n",
              "  <thead>\n",
              "    <tr style=\"text-align: right;\">\n",
              "      <th></th>\n",
              "      <th>session_id</th>\n",
              "      <th>webpage1</th>\n",
              "      <th>time1</th>\n",
              "      <th>webpage2</th>\n",
              "      <th>time2</th>\n",
              "      <th>webpage3</th>\n",
              "      <th>time3</th>\n",
              "      <th>webpage4</th>\n",
              "      <th>time4</th>\n",
              "      <th>webpage5</th>\n",
              "      <th>...</th>\n",
              "      <th>webpage6</th>\n",
              "      <th>time6</th>\n",
              "      <th>webpage7</th>\n",
              "      <th>time7</th>\n",
              "      <th>webpage8</th>\n",
              "      <th>time8</th>\n",
              "      <th>webpage9</th>\n",
              "      <th>time9</th>\n",
              "      <th>webpage10</th>\n",
              "      <th>time10</th>\n",
              "    </tr>\n",
              "  </thead>\n",
              "  <tbody>\n",
              "    <tr>\n",
              "      <th>0</th>\n",
              "      <td>0</td>\n",
              "      <td>10318</td>\n",
              "      <td>2019-03-28 06:47:12</td>\n",
              "      <td>10318.0</td>\n",
              "      <td>2019-03-28 06:47:42</td>\n",
              "      <td>10318.0</td>\n",
              "      <td>2019-03-28 06:48:12</td>\n",
              "      <td>10318.0</td>\n",
              "      <td>2019-03-28 06:48:42</td>\n",
              "      <td>10318.0</td>\n",
              "      <td>...</td>\n",
              "      <td>10318.0</td>\n",
              "      <td>2019-03-28 06:49:42</td>\n",
              "      <td>10318.0</td>\n",
              "      <td>2019-03-28 06:50:12</td>\n",
              "      <td>10318.0</td>\n",
              "      <td>2019-03-28 06:50:42</td>\n",
              "      <td>10318.0</td>\n",
              "      <td>2019-03-28 06:51:12</td>\n",
              "      <td>10318.0</td>\n",
              "      <td>2019-03-28 06:51:42</td>\n",
              "    </tr>\n",
              "    <tr>\n",
              "      <th>1</th>\n",
              "      <td>1</td>\n",
              "      <td>438</td>\n",
              "      <td>2019-02-28 06:48:05</td>\n",
              "      <td>2453.0</td>\n",
              "      <td>2019-02-28 06:50:22</td>\n",
              "      <td>2427.0</td>\n",
              "      <td>2019-02-28 06:50:22</td>\n",
              "      <td>2466.0</td>\n",
              "      <td>2019-02-28 06:50:23</td>\n",
              "      <td>2453.0</td>\n",
              "      <td>...</td>\n",
              "      <td>2466.0</td>\n",
              "      <td>2019-02-28 06:50:59</td>\n",
              "      <td>2427.0</td>\n",
              "      <td>2019-02-28 06:50:59</td>\n",
              "      <td>2453.0</td>\n",
              "      <td>2019-02-28 06:50:59</td>\n",
              "      <td>2453.0</td>\n",
              "      <td>2019-02-28 06:52:06</td>\n",
              "      <td>2466.0</td>\n",
              "      <td>2019-02-28 06:52:11</td>\n",
              "    </tr>\n",
              "    <tr>\n",
              "      <th>2</th>\n",
              "      <td>2</td>\n",
              "      <td>7562</td>\n",
              "      <td>2019-03-18 11:13:31</td>\n",
              "      <td>425.0</td>\n",
              "      <td>2019-03-18 11:13:39</td>\n",
              "      <td>7562.0</td>\n",
              "      <td>2019-03-18 11:18:02</td>\n",
              "      <td>425.0</td>\n",
              "      <td>2019-03-18 11:18:43</td>\n",
              "      <td>425.0</td>\n",
              "      <td>...</td>\n",
              "      <td>NaN</td>\n",
              "      <td>NaN</td>\n",
              "      <td>NaN</td>\n",
              "      <td>NaN</td>\n",
              "      <td>NaN</td>\n",
              "      <td>NaN</td>\n",
              "      <td>NaN</td>\n",
              "      <td>NaN</td>\n",
              "      <td>NaN</td>\n",
              "      <td>NaN</td>\n",
              "    </tr>\n",
              "    <tr>\n",
              "      <th>3</th>\n",
              "      <td>3</td>\n",
              "      <td>8836</td>\n",
              "      <td>2019-03-17 12:18:08</td>\n",
              "      <td>12372.0</td>\n",
              "      <td>2019-03-17 12:18:35</td>\n",
              "      <td>12398.0</td>\n",
              "      <td>2019-03-17 12:18:35</td>\n",
              "      <td>12385.0</td>\n",
              "      <td>2019-03-17 12:18:35</td>\n",
              "      <td>12385.0</td>\n",
              "      <td>...</td>\n",
              "      <td>12398.0</td>\n",
              "      <td>2019-03-17 12:18:36</td>\n",
              "      <td>12372.0</td>\n",
              "      <td>2019-03-17 12:18:36</td>\n",
              "      <td>451.0</td>\n",
              "      <td>2019-03-17 12:18:52</td>\n",
              "      <td>425.0</td>\n",
              "      <td>2019-03-17 12:18:52</td>\n",
              "      <td>438.0</td>\n",
              "      <td>2019-03-17 12:18:53</td>\n",
              "    </tr>\n",
              "    <tr>\n",
              "      <th>4</th>\n",
              "      <td>4</td>\n",
              "      <td>451</td>\n",
              "      <td>2019-03-31 09:46:43</td>\n",
              "      <td>9863.0</td>\n",
              "      <td>2019-03-31 09:46:44</td>\n",
              "      <td>451.0</td>\n",
              "      <td>2019-03-31 09:46:46</td>\n",
              "      <td>9889.0</td>\n",
              "      <td>2019-03-31 09:46:46</td>\n",
              "      <td>451.0</td>\n",
              "      <td>...</td>\n",
              "      <td>425.0</td>\n",
              "      <td>2019-03-31 09:47:46</td>\n",
              "      <td>9928.0</td>\n",
              "      <td>2019-03-31 09:49:43</td>\n",
              "      <td>867.0</td>\n",
              "      <td>2019-03-31 10:05:12</td>\n",
              "      <td>880.0</td>\n",
              "      <td>2019-03-31 10:05:12</td>\n",
              "      <td>867.0</td>\n",
              "      <td>2019-03-31 10:05:13</td>\n",
              "    </tr>\n",
              "  </tbody>\n",
              "</table>\n",
              "<p>5 rows × 21 columns</p>\n",
              "</div>\n",
              "    <div class=\"colab-df-buttons\">\n",
              "\n",
              "  <div class=\"colab-df-container\">\n",
              "    <button class=\"colab-df-convert\" onclick=\"convertToInteractive('df-9450d065-d796-44de-87d9-1bb6e484c0b8')\"\n",
              "            title=\"Convert this dataframe to an interactive table.\"\n",
              "            style=\"display:none;\">\n",
              "\n",
              "  <svg xmlns=\"http://www.w3.org/2000/svg\" height=\"24px\" viewBox=\"0 -960 960 960\">\n",
              "    <path d=\"M120-120v-720h720v720H120Zm60-500h600v-160H180v160Zm220 220h160v-160H400v160Zm0 220h160v-160H400v160ZM180-400h160v-160H180v160Zm440 0h160v-160H620v160ZM180-180h160v-160H180v160Zm440 0h160v-160H620v160Z\"/>\n",
              "  </svg>\n",
              "    </button>\n",
              "\n",
              "  <style>\n",
              "    .colab-df-container {\n",
              "      display:flex;\n",
              "      gap: 12px;\n",
              "    }\n",
              "\n",
              "    .colab-df-convert {\n",
              "      background-color: #E8F0FE;\n",
              "      border: none;\n",
              "      border-radius: 50%;\n",
              "      cursor: pointer;\n",
              "      display: none;\n",
              "      fill: #1967D2;\n",
              "      height: 32px;\n",
              "      padding: 0 0 0 0;\n",
              "      width: 32px;\n",
              "    }\n",
              "\n",
              "    .colab-df-convert:hover {\n",
              "      background-color: #E2EBFA;\n",
              "      box-shadow: 0px 1px 2px rgba(60, 64, 67, 0.3), 0px 1px 3px 1px rgba(60, 64, 67, 0.15);\n",
              "      fill: #174EA6;\n",
              "    }\n",
              "\n",
              "    .colab-df-buttons div {\n",
              "      margin-bottom: 4px;\n",
              "    }\n",
              "\n",
              "    [theme=dark] .colab-df-convert {\n",
              "      background-color: #3B4455;\n",
              "      fill: #D2E3FC;\n",
              "    }\n",
              "\n",
              "    [theme=dark] .colab-df-convert:hover {\n",
              "      background-color: #434B5C;\n",
              "      box-shadow: 0px 1px 3px 1px rgba(0, 0, 0, 0.15);\n",
              "      filter: drop-shadow(0px 1px 2px rgba(0, 0, 0, 0.3));\n",
              "      fill: #FFFFFF;\n",
              "    }\n",
              "  </style>\n",
              "\n",
              "    <script>\n",
              "      const buttonEl =\n",
              "        document.querySelector('#df-9450d065-d796-44de-87d9-1bb6e484c0b8 button.colab-df-convert');\n",
              "      buttonEl.style.display =\n",
              "        google.colab.kernel.accessAllowed ? 'block' : 'none';\n",
              "\n",
              "      async function convertToInteractive(key) {\n",
              "        const element = document.querySelector('#df-9450d065-d796-44de-87d9-1bb6e484c0b8');\n",
              "        const dataTable =\n",
              "          await google.colab.kernel.invokeFunction('convertToInteractive',\n",
              "                                                    [key], {});\n",
              "        if (!dataTable) return;\n",
              "\n",
              "        const docLinkHtml = 'Like what you see? Visit the ' +\n",
              "          '<a target=\"_blank\" href=https://colab.research.google.com/notebooks/data_table.ipynb>data table notebook</a>'\n",
              "          + ' to learn more about interactive tables.';\n",
              "        element.innerHTML = '';\n",
              "        dataTable['output_type'] = 'display_data';\n",
              "        await google.colab.output.renderOutput(dataTable, element);\n",
              "        const docLink = document.createElement('div');\n",
              "        docLink.innerHTML = docLinkHtml;\n",
              "        element.appendChild(docLink);\n",
              "      }\n",
              "    </script>\n",
              "  </div>\n",
              "\n",
              "\n",
              "<div id=\"df-47cfc28c-8865-4909-ae1e-1877aa8de21b\">\n",
              "  <button class=\"colab-df-quickchart\" onclick=\"quickchart('df-47cfc28c-8865-4909-ae1e-1877aa8de21b')\"\n",
              "            title=\"Suggest charts\"\n",
              "            style=\"display:none;\">\n",
              "\n",
              "<svg xmlns=\"http://www.w3.org/2000/svg\" height=\"24px\"viewBox=\"0 0 24 24\"\n",
              "     width=\"24px\">\n",
              "    <g>\n",
              "        <path d=\"M19 3H5c-1.1 0-2 .9-2 2v14c0 1.1.9 2 2 2h14c1.1 0 2-.9 2-2V5c0-1.1-.9-2-2-2zM9 17H7v-7h2v7zm4 0h-2V7h2v10zm4 0h-2v-4h2v4z\"/>\n",
              "    </g>\n",
              "</svg>\n",
              "  </button>\n",
              "\n",
              "<style>\n",
              "  .colab-df-quickchart {\n",
              "      --bg-color: #E8F0FE;\n",
              "      --fill-color: #1967D2;\n",
              "      --hover-bg-color: #E2EBFA;\n",
              "      --hover-fill-color: #174EA6;\n",
              "      --disabled-fill-color: #AAA;\n",
              "      --disabled-bg-color: #DDD;\n",
              "  }\n",
              "\n",
              "  [theme=dark] .colab-df-quickchart {\n",
              "      --bg-color: #3B4455;\n",
              "      --fill-color: #D2E3FC;\n",
              "      --hover-bg-color: #434B5C;\n",
              "      --hover-fill-color: #FFFFFF;\n",
              "      --disabled-bg-color: #3B4455;\n",
              "      --disabled-fill-color: #666;\n",
              "  }\n",
              "\n",
              "  .colab-df-quickchart {\n",
              "    background-color: var(--bg-color);\n",
              "    border: none;\n",
              "    border-radius: 50%;\n",
              "    cursor: pointer;\n",
              "    display: none;\n",
              "    fill: var(--fill-color);\n",
              "    height: 32px;\n",
              "    padding: 0;\n",
              "    width: 32px;\n",
              "  }\n",
              "\n",
              "  .colab-df-quickchart:hover {\n",
              "    background-color: var(--hover-bg-color);\n",
              "    box-shadow: 0 1px 2px rgba(60, 64, 67, 0.3), 0 1px 3px 1px rgba(60, 64, 67, 0.15);\n",
              "    fill: var(--button-hover-fill-color);\n",
              "  }\n",
              "\n",
              "  .colab-df-quickchart-complete:disabled,\n",
              "  .colab-df-quickchart-complete:disabled:hover {\n",
              "    background-color: var(--disabled-bg-color);\n",
              "    fill: var(--disabled-fill-color);\n",
              "    box-shadow: none;\n",
              "  }\n",
              "\n",
              "  .colab-df-spinner {\n",
              "    border: 2px solid var(--fill-color);\n",
              "    border-color: transparent;\n",
              "    border-bottom-color: var(--fill-color);\n",
              "    animation:\n",
              "      spin 1s steps(1) infinite;\n",
              "  }\n",
              "\n",
              "  @keyframes spin {\n",
              "    0% {\n",
              "      border-color: transparent;\n",
              "      border-bottom-color: var(--fill-color);\n",
              "      border-left-color: var(--fill-color);\n",
              "    }\n",
              "    20% {\n",
              "      border-color: transparent;\n",
              "      border-left-color: var(--fill-color);\n",
              "      border-top-color: var(--fill-color);\n",
              "    }\n",
              "    30% {\n",
              "      border-color: transparent;\n",
              "      border-left-color: var(--fill-color);\n",
              "      border-top-color: var(--fill-color);\n",
              "      border-right-color: var(--fill-color);\n",
              "    }\n",
              "    40% {\n",
              "      border-color: transparent;\n",
              "      border-right-color: var(--fill-color);\n",
              "      border-top-color: var(--fill-color);\n",
              "    }\n",
              "    60% {\n",
              "      border-color: transparent;\n",
              "      border-right-color: var(--fill-color);\n",
              "    }\n",
              "    80% {\n",
              "      border-color: transparent;\n",
              "      border-right-color: var(--fill-color);\n",
              "      border-bottom-color: var(--fill-color);\n",
              "    }\n",
              "    90% {\n",
              "      border-color: transparent;\n",
              "      border-bottom-color: var(--fill-color);\n",
              "    }\n",
              "  }\n",
              "</style>\n",
              "\n",
              "  <script>\n",
              "    async function quickchart(key) {\n",
              "      const quickchartButtonEl =\n",
              "        document.querySelector('#' + key + ' button');\n",
              "      quickchartButtonEl.disabled = true;  // To prevent multiple clicks.\n",
              "      quickchartButtonEl.classList.add('colab-df-spinner');\n",
              "      try {\n",
              "        const charts = await google.colab.kernel.invokeFunction(\n",
              "            'suggestCharts', [key], {});\n",
              "      } catch (error) {\n",
              "        console.error('Error during call to suggestCharts:', error);\n",
              "      }\n",
              "      quickchartButtonEl.classList.remove('colab-df-spinner');\n",
              "      quickchartButtonEl.classList.add('colab-df-quickchart-complete');\n",
              "    }\n",
              "    (() => {\n",
              "      let quickchartButtonEl =\n",
              "        document.querySelector('#df-47cfc28c-8865-4909-ae1e-1877aa8de21b button');\n",
              "      quickchartButtonEl.style.display =\n",
              "        google.colab.kernel.accessAllowed ? 'block' : 'none';\n",
              "    })();\n",
              "  </script>\n",
              "</div>\n",
              "    </div>\n",
              "  </div>\n"
            ]
          },
          "metadata": {},
          "execution_count": 9
        }
      ]
    },
    {
      "cell_type": "code",
      "source": [
        "id_map = pd.read_parquet(ID_MAP)"
      ],
      "metadata": {
        "id": "ya4Gcm6Mophi"
      },
      "execution_count": null,
      "outputs": []
    },
    {
      "cell_type": "code",
      "source": [
        "id_map['webpage'].nunique()"
      ],
      "metadata": {
        "colab": {
          "base_uri": "https://localhost:8080/"
        },
        "id": "yHKJcXqShoVS",
        "outputId": "dc5e7138-cfa0-40b5-c8ce-c1a1f52c42ff"
      },
      "execution_count": null,
      "outputs": [
        {
          "output_type": "execute_result",
          "data": {
            "text/plain": [
              "48371"
            ]
          },
          "metadata": {},
          "execution_count": 11
        }
      ]
    },
    {
      "cell_type": "code",
      "source": [
        "def extractDomain(url):\n",
        "  '''\n",
        "    PArsing only the domain + top-level-domain from the webpage data\n",
        "  '''\n",
        "  ext = tldextract.extract(url)\n",
        "  if ext.suffix=='':\n",
        "    return ext.domain\n",
        "  else:\n",
        "    return ext.domain + '.' + ext.suffix\n",
        "\n",
        "#Removing 'www' from the webpages\n",
        "id_map['webpage_proc'] = id_map['webpage'].apply(lambda x: re.sub(\"^\\S*?\\.*?www\\S*?\\.\", '', x))\n",
        "id_map['domain_only'] = id_map['webpage_proc'].apply(lambda x: extractDomain(x))"
      ],
      "metadata": {
        "id": "9RHldlut3iMU"
      },
      "execution_count": null,
      "outputs": []
    },
    {
      "cell_type": "code",
      "source": [
        "id_map.head()"
      ],
      "metadata": {
        "colab": {
          "base_uri": "https://localhost:8080/"
        },
        "id": "0gWuOKRF3hy3",
        "outputId": "a4fe3704-c939-4f28-93bd-ff172c6bfd1f"
      },
      "execution_count": null,
      "outputs": [
        {
          "output_type": "execute_result",
          "data": {
            "text/plain": [
              "       id                             webpage  \\\n",
              "0  326127              www.abmecatronique.com   \n",
              "1  182113                     groups.live.com   \n",
              "2  551820  majeureliguefootball.wordpress.com   \n",
              "3  401995           cdt46.media.tourinsoft.eu   \n",
              "4  105504                 www.hdwallpapers.eu   \n",
              "\n",
              "                         webpage_proc         domain_only  \n",
              "0                  abmecatronique.com  abmecatronique.com  \n",
              "1                     groups.live.com            live.com  \n",
              "2  majeureliguefootball.wordpress.com       wordpress.com  \n",
              "3           cdt46.media.tourinsoft.eu       tourinsoft.eu  \n",
              "4                     hdwallpapers.eu     hdwallpapers.eu  "
            ],
            "text/html": [
              "\n",
              "  <div id=\"df-52752e2c-023d-4426-81ad-364068408724\" class=\"colab-df-container\">\n",
              "    <div>\n",
              "<style scoped>\n",
              "    .dataframe tbody tr th:only-of-type {\n",
              "        vertical-align: middle;\n",
              "    }\n",
              "\n",
              "    .dataframe tbody tr th {\n",
              "        vertical-align: top;\n",
              "    }\n",
              "\n",
              "    .dataframe thead th {\n",
              "        text-align: right;\n",
              "    }\n",
              "</style>\n",
              "<table border=\"1\" class=\"dataframe\">\n",
              "  <thead>\n",
              "    <tr style=\"text-align: right;\">\n",
              "      <th></th>\n",
              "      <th>id</th>\n",
              "      <th>webpage</th>\n",
              "      <th>webpage_proc</th>\n",
              "      <th>domain_only</th>\n",
              "    </tr>\n",
              "  </thead>\n",
              "  <tbody>\n",
              "    <tr>\n",
              "      <th>0</th>\n",
              "      <td>326127</td>\n",
              "      <td>www.abmecatronique.com</td>\n",
              "      <td>abmecatronique.com</td>\n",
              "      <td>abmecatronique.com</td>\n",
              "    </tr>\n",
              "    <tr>\n",
              "      <th>1</th>\n",
              "      <td>182113</td>\n",
              "      <td>groups.live.com</td>\n",
              "      <td>groups.live.com</td>\n",
              "      <td>live.com</td>\n",
              "    </tr>\n",
              "    <tr>\n",
              "      <th>2</th>\n",
              "      <td>551820</td>\n",
              "      <td>majeureliguefootball.wordpress.com</td>\n",
              "      <td>majeureliguefootball.wordpress.com</td>\n",
              "      <td>wordpress.com</td>\n",
              "    </tr>\n",
              "    <tr>\n",
              "      <th>3</th>\n",
              "      <td>401995</td>\n",
              "      <td>cdt46.media.tourinsoft.eu</td>\n",
              "      <td>cdt46.media.tourinsoft.eu</td>\n",
              "      <td>tourinsoft.eu</td>\n",
              "    </tr>\n",
              "    <tr>\n",
              "      <th>4</th>\n",
              "      <td>105504</td>\n",
              "      <td>www.hdwallpapers.eu</td>\n",
              "      <td>hdwallpapers.eu</td>\n",
              "      <td>hdwallpapers.eu</td>\n",
              "    </tr>\n",
              "  </tbody>\n",
              "</table>\n",
              "</div>\n",
              "    <div class=\"colab-df-buttons\">\n",
              "\n",
              "  <div class=\"colab-df-container\">\n",
              "    <button class=\"colab-df-convert\" onclick=\"convertToInteractive('df-52752e2c-023d-4426-81ad-364068408724')\"\n",
              "            title=\"Convert this dataframe to an interactive table.\"\n",
              "            style=\"display:none;\">\n",
              "\n",
              "  <svg xmlns=\"http://www.w3.org/2000/svg\" height=\"24px\" viewBox=\"0 -960 960 960\">\n",
              "    <path d=\"M120-120v-720h720v720H120Zm60-500h600v-160H180v160Zm220 220h160v-160H400v160Zm0 220h160v-160H400v160ZM180-400h160v-160H180v160Zm440 0h160v-160H620v160ZM180-180h160v-160H180v160Zm440 0h160v-160H620v160Z\"/>\n",
              "  </svg>\n",
              "    </button>\n",
              "\n",
              "  <style>\n",
              "    .colab-df-container {\n",
              "      display:flex;\n",
              "      gap: 12px;\n",
              "    }\n",
              "\n",
              "    .colab-df-convert {\n",
              "      background-color: #E8F0FE;\n",
              "      border: none;\n",
              "      border-radius: 50%;\n",
              "      cursor: pointer;\n",
              "      display: none;\n",
              "      fill: #1967D2;\n",
              "      height: 32px;\n",
              "      padding: 0 0 0 0;\n",
              "      width: 32px;\n",
              "    }\n",
              "\n",
              "    .colab-df-convert:hover {\n",
              "      background-color: #E2EBFA;\n",
              "      box-shadow: 0px 1px 2px rgba(60, 64, 67, 0.3), 0px 1px 3px 1px rgba(60, 64, 67, 0.15);\n",
              "      fill: #174EA6;\n",
              "    }\n",
              "\n",
              "    .colab-df-buttons div {\n",
              "      margin-bottom: 4px;\n",
              "    }\n",
              "\n",
              "    [theme=dark] .colab-df-convert {\n",
              "      background-color: #3B4455;\n",
              "      fill: #D2E3FC;\n",
              "    }\n",
              "\n",
              "    [theme=dark] .colab-df-convert:hover {\n",
              "      background-color: #434B5C;\n",
              "      box-shadow: 0px 1px 3px 1px rgba(0, 0, 0, 0.15);\n",
              "      filter: drop-shadow(0px 1px 2px rgba(0, 0, 0, 0.3));\n",
              "      fill: #FFFFFF;\n",
              "    }\n",
              "  </style>\n",
              "\n",
              "    <script>\n",
              "      const buttonEl =\n",
              "        document.querySelector('#df-52752e2c-023d-4426-81ad-364068408724 button.colab-df-convert');\n",
              "      buttonEl.style.display =\n",
              "        google.colab.kernel.accessAllowed ? 'block' : 'none';\n",
              "\n",
              "      async function convertToInteractive(key) {\n",
              "        const element = document.querySelector('#df-52752e2c-023d-4426-81ad-364068408724');\n",
              "        const dataTable =\n",
              "          await google.colab.kernel.invokeFunction('convertToInteractive',\n",
              "                                                    [key], {});\n",
              "        if (!dataTable) return;\n",
              "\n",
              "        const docLinkHtml = 'Like what you see? Visit the ' +\n",
              "          '<a target=\"_blank\" href=https://colab.research.google.com/notebooks/data_table.ipynb>data table notebook</a>'\n",
              "          + ' to learn more about interactive tables.';\n",
              "        element.innerHTML = '';\n",
              "        dataTable['output_type'] = 'display_data';\n",
              "        await google.colab.output.renderOutput(dataTable, element);\n",
              "        const docLink = document.createElement('div');\n",
              "        docLink.innerHTML = docLinkHtml;\n",
              "        element.appendChild(docLink);\n",
              "      }\n",
              "    </script>\n",
              "  </div>\n",
              "\n",
              "\n",
              "<div id=\"df-4b54dd74-9a96-41c8-bba9-eabca73b6a19\">\n",
              "  <button class=\"colab-df-quickchart\" onclick=\"quickchart('df-4b54dd74-9a96-41c8-bba9-eabca73b6a19')\"\n",
              "            title=\"Suggest charts\"\n",
              "            style=\"display:none;\">\n",
              "\n",
              "<svg xmlns=\"http://www.w3.org/2000/svg\" height=\"24px\"viewBox=\"0 0 24 24\"\n",
              "     width=\"24px\">\n",
              "    <g>\n",
              "        <path d=\"M19 3H5c-1.1 0-2 .9-2 2v14c0 1.1.9 2 2 2h14c1.1 0 2-.9 2-2V5c0-1.1-.9-2-2-2zM9 17H7v-7h2v7zm4 0h-2V7h2v10zm4 0h-2v-4h2v4z\"/>\n",
              "    </g>\n",
              "</svg>\n",
              "  </button>\n",
              "\n",
              "<style>\n",
              "  .colab-df-quickchart {\n",
              "      --bg-color: #E8F0FE;\n",
              "      --fill-color: #1967D2;\n",
              "      --hover-bg-color: #E2EBFA;\n",
              "      --hover-fill-color: #174EA6;\n",
              "      --disabled-fill-color: #AAA;\n",
              "      --disabled-bg-color: #DDD;\n",
              "  }\n",
              "\n",
              "  [theme=dark] .colab-df-quickchart {\n",
              "      --bg-color: #3B4455;\n",
              "      --fill-color: #D2E3FC;\n",
              "      --hover-bg-color: #434B5C;\n",
              "      --hover-fill-color: #FFFFFF;\n",
              "      --disabled-bg-color: #3B4455;\n",
              "      --disabled-fill-color: #666;\n",
              "  }\n",
              "\n",
              "  .colab-df-quickchart {\n",
              "    background-color: var(--bg-color);\n",
              "    border: none;\n",
              "    border-radius: 50%;\n",
              "    cursor: pointer;\n",
              "    display: none;\n",
              "    fill: var(--fill-color);\n",
              "    height: 32px;\n",
              "    padding: 0;\n",
              "    width: 32px;\n",
              "  }\n",
              "\n",
              "  .colab-df-quickchart:hover {\n",
              "    background-color: var(--hover-bg-color);\n",
              "    box-shadow: 0 1px 2px rgba(60, 64, 67, 0.3), 0 1px 3px 1px rgba(60, 64, 67, 0.15);\n",
              "    fill: var(--button-hover-fill-color);\n",
              "  }\n",
              "\n",
              "  .colab-df-quickchart-complete:disabled,\n",
              "  .colab-df-quickchart-complete:disabled:hover {\n",
              "    background-color: var(--disabled-bg-color);\n",
              "    fill: var(--disabled-fill-color);\n",
              "    box-shadow: none;\n",
              "  }\n",
              "\n",
              "  .colab-df-spinner {\n",
              "    border: 2px solid var(--fill-color);\n",
              "    border-color: transparent;\n",
              "    border-bottom-color: var(--fill-color);\n",
              "    animation:\n",
              "      spin 1s steps(1) infinite;\n",
              "  }\n",
              "\n",
              "  @keyframes spin {\n",
              "    0% {\n",
              "      border-color: transparent;\n",
              "      border-bottom-color: var(--fill-color);\n",
              "      border-left-color: var(--fill-color);\n",
              "    }\n",
              "    20% {\n",
              "      border-color: transparent;\n",
              "      border-left-color: var(--fill-color);\n",
              "      border-top-color: var(--fill-color);\n",
              "    }\n",
              "    30% {\n",
              "      border-color: transparent;\n",
              "      border-left-color: var(--fill-color);\n",
              "      border-top-color: var(--fill-color);\n",
              "      border-right-color: var(--fill-color);\n",
              "    }\n",
              "    40% {\n",
              "      border-color: transparent;\n",
              "      border-right-color: var(--fill-color);\n",
              "      border-top-color: var(--fill-color);\n",
              "    }\n",
              "    60% {\n",
              "      border-color: transparent;\n",
              "      border-right-color: var(--fill-color);\n",
              "    }\n",
              "    80% {\n",
              "      border-color: transparent;\n",
              "      border-right-color: var(--fill-color);\n",
              "      border-bottom-color: var(--fill-color);\n",
              "    }\n",
              "    90% {\n",
              "      border-color: transparent;\n",
              "      border-bottom-color: var(--fill-color);\n",
              "    }\n",
              "  }\n",
              "</style>\n",
              "\n",
              "  <script>\n",
              "    async function quickchart(key) {\n",
              "      const quickchartButtonEl =\n",
              "        document.querySelector('#' + key + ' button');\n",
              "      quickchartButtonEl.disabled = true;  // To prevent multiple clicks.\n",
              "      quickchartButtonEl.classList.add('colab-df-spinner');\n",
              "      try {\n",
              "        const charts = await google.colab.kernel.invokeFunction(\n",
              "            'suggestCharts', [key], {});\n",
              "      } catch (error) {\n",
              "        console.error('Error during call to suggestCharts:', error);\n",
              "      }\n",
              "      quickchartButtonEl.classList.remove('colab-df-spinner');\n",
              "      quickchartButtonEl.classList.add('colab-df-quickchart-complete');\n",
              "    }\n",
              "    (() => {\n",
              "      let quickchartButtonEl =\n",
              "        document.querySelector('#df-4b54dd74-9a96-41c8-bba9-eabca73b6a19 button');\n",
              "      quickchartButtonEl.style.display =\n",
              "        google.colab.kernel.accessAllowed ? 'block' : 'none';\n",
              "    })();\n",
              "  </script>\n",
              "</div>\n",
              "    </div>\n",
              "  </div>\n"
            ]
          },
          "metadata": {},
          "execution_count": 13
        }
      ]
    },
    {
      "cell_type": "markdown",
      "source": [
        "## EDA"
      ],
      "metadata": {
        "id": "ayirbFIQ938b"
      }
    },
    {
      "cell_type": "code",
      "source": [
        "plt.figure(figsize=(10,4))\n",
        "sns.set_style(\"whitegrid\")\n",
        "sns.countplot(x=TARGET,data=train_data, color='steelblue').set(title='Target distribution')"
      ],
      "metadata": {
        "colab": {
          "base_uri": "https://localhost:8080/",
          "height": 432
        },
        "id": "ijYwBRyj52Nu",
        "outputId": "e231e897-ddab-4e27-acfb-f411b1d7fc25"
      },
      "execution_count": null,
      "outputs": [
        {
          "output_type": "execute_result",
          "data": {
            "text/plain": [
              "<Figure size 1000x400 with 0 Axes>"
            ]
          },
          "metadata": {},
          "execution_count": 13
        },
        {
          "output_type": "execute_result",
          "data": {
            "text/plain": [
              "[Text(0.5, 1.0, 'Target distribution')]"
            ]
          },
          "metadata": {},
          "execution_count": 13
        },
        {
          "output_type": "display_data",
          "data": {
            "text/plain": [
              "<Figure size 1000x400 with 1 Axes>"
            ],
            "image/png": "[encoded data removed]"
          },
          "metadata": {}
        }
      ]
    },
    {
      "cell_type": "code",
      "source": [
        "train_data[TARGET].value_counts()"
      ],
      "metadata": {
        "colab": {
          "base_uri": "https://localhost:8080/"
        },
        "id": "WHPES7Wuo-MO",
        "outputId": "13e462b9-7b4c-47f0-8b5c-1ecc0e85945a"
      },
      "execution_count": null,
      "outputs": [
        {
          "output_type": "execute_result",
          "data": {
            "text/plain": [
              "0    158394\n",
              "1      1575\n",
              "Name: target, dtype: int64"
            ]
          },
          "metadata": {},
          "execution_count": 14
        }
      ]
    },
    {
      "cell_type": "markdown",
      "source": [
        "As we can see, the target distribution is highly imbalanced. We have only 1575 instances for class 1."
      ],
      "metadata": {
        "id": "vVkJ7i5XnI8S"
      }
    },
    {
      "cell_type": "code",
      "source": [
        "train_data.info()"
      ],
      "metadata": {
        "colab": {
          "base_uri": "https://localhost:8080/"
        },
        "id": "PinVKIxUfpNQ",
        "outputId": "e99157a8-9eb5-45cf-9934-3a8e3d4eab40"
      },
      "execution_count": null,
      "outputs": [
        {
          "output_type": "stream",
          "name": "stdout",
          "text": [
            "<class 'pandas.core.frame.DataFrame'>\n",
            "RangeIndex: 159969 entries, 0 to 159968\n",
            "Data columns (total 22 columns):\n",
            " #   Column      Non-Null Count   Dtype  \n",
            "---  ------      --------------   -----  \n",
            " 0   session_id  159969 non-null  int64  \n",
            " 1   webpage1    159969 non-null  int64  \n",
            " 2   time1       159969 non-null  object \n",
            " 3   webpage2    157990 non-null  float64\n",
            " 4   time2       157990 non-null  object \n",
            " 5   webpage3    156066 non-null  float64\n",
            " 6   time3       156066 non-null  object \n",
            " 7   webpage4    154402 non-null  float64\n",
            " 8   time4       154402 non-null  object \n",
            " 9   webpage5    152841 non-null  float64\n",
            " 10  time5       152841 non-null  object \n",
            " 11  webpage6    151324 non-null  float64\n",
            " 12  time6       151324 non-null  object \n",
            " 13  webpage7    149912 non-null  float64\n",
            " 14  time7       149912 non-null  object \n",
            " 15  webpage8    148574 non-null  float64\n",
            " 16  time8       148574 non-null  object \n",
            " 17  webpage9    147160 non-null  float64\n",
            " 18  time9       147160 non-null  object \n",
            " 19  webpage10   145856 non-null  float64\n",
            " 20  time10      145856 non-null  object \n",
            " 21  target      159969 non-null  int64  \n",
            "dtypes: float64(9), int64(3), object(10)\n",
            "memory usage: 26.9+ MB\n"
          ]
        }
      ]
    },
    {
      "cell_type": "markdown",
      "source": [
        "* As session_id is unique, we can use it as index\n",
        "\n",
        "* In one session we have maximum 10 webpages and the corresponding timestamp\n",
        "\n",
        "* time data is stored as object, so we need to convert it to datetime value"
      ],
      "metadata": {
        "id": "W1mh8rcCnqTq"
      }
    },
    {
      "cell_type": "code",
      "source": [
        "train_data.set_index('session_id', inplace=True)\n",
        "test_data.set_index('session_id', inplace=True)"
      ],
      "metadata": {
        "id": "fprP2-URfpKH"
      },
      "execution_count": null,
      "outputs": []
    },
    {
      "cell_type": "code",
      "source": [
        "for col in [f\"time{i}\" for i in range(1,11)]:\n",
        "  train_data[col] = pd.to_datetime(train_data[col])\n",
        "  test_data[col] = pd.to_datetime(test_data[col])\n",
        "\n",
        "train_data = train_data.sort_values(by=['time1'], ascending=True)"
      ],
      "metadata": {
        "id": "32XuyEWQ3tSM"
      },
      "execution_count": null,
      "outputs": []
    },
    {
      "cell_type": "markdown",
      "source": [
        "### Time columns"
      ],
      "metadata": {
        "id": "ht8NrAfvAmsx"
      }
    },
    {
      "cell_type": "code",
      "source": [
        "# Generating some features from time data for EDA\n",
        "df = pd.DataFrame()\n",
        "for col in [f\"time{i}\" for i in range(1,11)]:\n",
        "        df[col] = pd.to_datetime(train_data[col])\n",
        "\n",
        "df[TARGET] = train_data[TARGET]\n",
        "\n",
        "df['session_start'] = df[[f\"time{i}\" for i in range(1,11)]].min(axis=1)\n",
        "df['session_end'] = df[[f\"time{i}\" for i in range(1,11)]].max(axis=1)\n",
        "df['session_len'] = (df['session_end'] - df['session_start']).dt.seconds #length of the whole session\n",
        "#year, month, day, weekday, hour and minute data from session start\n",
        "df['year'] = df['session_start'].dt.year\n",
        "df['month'] = df['session_start'].dt.month\n",
        "df['day'] = df['session_start'].dt.day\n",
        "df['weekday'] = df['session_start'].dt.dayofweek\n",
        "df['hour'] = df['session_start'].dt.hour\n",
        "df['minute'] = df['session_start'].dt.minute"
      ],
      "metadata": {
        "id": "GyOeqeX6x4Gy"
      },
      "execution_count": null,
      "outputs": []
    },
    {
      "cell_type": "code",
      "source": [
        "corr = df.corr('spearman')\n",
        "plt.figure(figsize = ( 8 , 6 ))\n",
        "sns.heatmap(corr,annot=True,fmt='.2f',cmap=\"YlGnBu\");"
      ],
      "metadata": {
        "colab": {
          "base_uri": "https://localhost:8080/",
          "height": 528
        },
        "id": "D5YE50XlLYnH",
        "outputId": "3c08a1ee-6459-4513-a606-90450d0a2b4c"
      },
      "execution_count": null,
      "outputs": [
        {
          "output_type": "display_data",
          "data": {
            "text/plain": [
              "<Figure size 800x600 with 2 Axes>"
            ],
            "image/png": "[encoded data removed]"
          },
          "metadata": {}
        }
      ]
    },
    {
      "cell_type": "markdown",
      "source": [
        "We can't see any strong correlation between the time features and the target variable."
      ],
      "metadata": {
        "id": "jpa42UH9oo_C"
      }
    },
    {
      "cell_type": "code",
      "source": [
        "def plotTimefeatures(data, feature):\n",
        "  plt.figure(figsize=(16, 4))\n",
        "  sns.set_style(\"whitegrid\")\n",
        "\n",
        "  plt.subplot(1, 2, 1)\n",
        "  plt.ylim(0, 100)\n",
        "  values_perc = data[data[TARGET]==1][feature].value_counts(normalize=True)*100\n",
        "  ax = sns.barplot(x=values_perc.index, y=values_perc.values, palette=\"YlGnBu\")\n",
        "  ax.set(ylabel=\"Percent\")\n",
        "  plt.title(\"Target=1\")\n",
        "\n",
        "  plt.subplot(1, 2, 2)\n",
        "  plt.ylim(0, 100)\n",
        "  values_perc = data[data[TARGET]==0][feature].value_counts(normalize=True)*100\n",
        "  ax = sns.barplot(x=values_perc.index, y=values_perc.values, palette=\"YlGnBu\")\n",
        "  ax.set(ylabel=\"Percent\")\n",
        "  plt.title(\"Target=0\")\n",
        "\n",
        "  plt.tight_layout()\n",
        "  plt.suptitle(f\"Distribution of {feature}\")"
      ],
      "metadata": {
        "id": "Ett3XsxNAP06"
      },
      "execution_count": null,
      "outputs": []
    },
    {
      "cell_type": "code",
      "source": [
        "plotTimefeatures(df, 'year')"
      ],
      "metadata": {
        "colab": {
          "base_uri": "https://localhost:8080/",
          "height": 413
        },
        "id": "ggKMr3pKAPyI",
        "outputId": "de6f227a-985d-406f-a63b-fd05a8abc059"
      },
      "execution_count": null,
      "outputs": [
        {
          "output_type": "display_data",
          "data": {
            "text/plain": [
              "<Figure size 1600x400 with 2 Axes>"
            ],
            "image/png": "[encoded data removed]"
          },
          "metadata": {}
        }
      ]
    },
    {
      "cell_type": "markdown",
      "source": [
        "The target user was active mostly in 2018, from 2019 we have less sessions initiated by the target user"
      ],
      "metadata": {
        "id": "jsiCbRO-pO4C"
      }
    },
    {
      "cell_type": "code",
      "source": [
        "plotTimefeatures(df, 'month')"
      ],
      "metadata": {
        "colab": {
          "base_uri": "https://localhost:8080/",
          "height": 413
        },
        "id": "jfmTGpXzAPvA",
        "outputId": "81d1d95b-6930-4e11-d234-6d0b25a035c4"
      },
      "execution_count": null,
      "outputs": [
        {
          "output_type": "display_data",
          "data": {
            "text/plain": [
              "<Figure size 1600x400 with 2 Axes>"
            ],
            "image/png": "[encoded data removed]"
          },
          "metadata": {}
        }
      ]
    },
    {
      "cell_type": "markdown",
      "source": [
        "As we can see, the target user was not active during the summer ( from May till August)"
      ],
      "metadata": {
        "id": "ST5zOzOUpiaV"
      }
    },
    {
      "cell_type": "code",
      "source": [
        "plotTimefeatures(df, 'day')"
      ],
      "metadata": {
        "colab": {
          "base_uri": "https://localhost:8080/",
          "height": 413
        },
        "id": "MPWgY0A2APsI",
        "outputId": "e27103c4-a938-4ad6-fc39-48333bee01d7"
      },
      "execution_count": null,
      "outputs": [
        {
          "output_type": "display_data",
          "data": {
            "text/plain": [
              "<Figure size 1600x400 with 2 Axes>"
            ],
            "image/png": "[encoded data removed]"
          },
          "metadata": {}
        }
      ]
    },
    {
      "cell_type": "markdown",
      "source": [
        "The target user is mainly active in the second half of the month, the most sessions occured on the 12th day of the month"
      ],
      "metadata": {
        "id": "XgINvZMEpw9S"
      }
    },
    {
      "cell_type": "code",
      "source": [
        "plotTimefeatures(df, 'weekday')"
      ],
      "metadata": {
        "colab": {
          "base_uri": "https://localhost:8080/",
          "height": 413
        },
        "id": "T_8sP2ksAPpd",
        "outputId": "05b7f5ff-00f4-4749-e578-d56628eff73a"
      },
      "execution_count": null,
      "outputs": [
        {
          "output_type": "display_data",
          "data": {
            "text/plain": [
              "<Figure size 1600x400 with 2 Axes>"
            ],
            "image/png": "[encoded data removed]"
          },
          "metadata": {}
        }
      ]
    },
    {
      "cell_type": "code",
      "source": [
        "plt.figure(figsize=(16, 4))\n",
        "sns.set_style(\"whitegrid\")\n",
        "\n",
        "plt.subplot(1, 2, 1)\n",
        "plt.ylim(0, 100)\n",
        "ax = sns.histplot(x=df.session_len, data=df[df[TARGET]==1], stat='percent', binwidth=60)\n",
        "plt.title(\"Target=1\")\n",
        "\n",
        "plt.subplot(1, 2, 2)\n",
        "plt.ylim(0, 100)\n",
        "ax = sns.histplot(x=df.session_len, data=df[df[TARGET]==0], stat='percent', binwidth=60)\n",
        "plt.title(\"Target=0\")\n",
        "\n",
        "plt.tight_layout()\n",
        "plt.suptitle(f\"Distribution of session duration\")"
      ],
      "metadata": {
        "colab": {
          "base_uri": "https://localhost:8080/",
          "height": 431
        },
        "id": "YzWHQIZRyzF3",
        "outputId": "71d8f298-6566-4d52-f2d4-47b2476e6c64"
      },
      "execution_count": null,
      "outputs": [
        {
          "output_type": "execute_result",
          "data": {
            "text/plain": [
              "<Figure size 1600x400 with 0 Axes>"
            ]
          },
          "metadata": {},
          "execution_count": 31
        },
        {
          "output_type": "execute_result",
          "data": {
            "text/plain": [
              "<Axes: >"
            ]
          },
          "metadata": {},
          "execution_count": 31
        },
        {
          "output_type": "execute_result",
          "data": {
            "text/plain": [
              "(0.0, 100.0)"
            ]
          },
          "metadata": {},
          "execution_count": 31
        },
        {
          "output_type": "execute_result",
          "data": {
            "text/plain": [
              "Text(0.5, 1.0, 'Target=1')"
            ]
          },
          "metadata": {},
          "execution_count": 31
        },
        {
          "output_type": "execute_result",
          "data": {
            "text/plain": [
              "<Axes: >"
            ]
          },
          "metadata": {},
          "execution_count": 31
        },
        {
          "output_type": "execute_result",
          "data": {
            "text/plain": [
              "(0.0, 100.0)"
            ]
          },
          "metadata": {},
          "execution_count": 31
        },
        {
          "output_type": "execute_result",
          "data": {
            "text/plain": [
              "Text(0.5, 1.0, 'Target=0')"
            ]
          },
          "metadata": {},
          "execution_count": 31
        },
        {
          "output_type": "execute_result",
          "data": {
            "text/plain": [
              "Text(0.5, 0.98, 'Distribution of session duration')"
            ]
          },
          "metadata": {},
          "execution_count": 31
        },
        {
          "output_type": "display_data",
          "data": {
            "text/plain": [
              "<Figure size 1600x400 with 2 Axes>"
            ],
            "image/png": "[encoded data removed]"
          },
          "metadata": {}
        }
      ]
    },
    {
      "cell_type": "markdown",
      "source": [
        "We can't see any siginificant difference in the distribution of session duration between different target classes"
      ],
      "metadata": {
        "id": "ta-JwautqC64"
      }
    },
    {
      "cell_type": "markdown",
      "source": [
        "### Webpage columns"
      ],
      "metadata": {
        "id": "lzSxtYB8rcJ_"
      }
    },
    {
      "cell_type": "code",
      "source": [
        "wps = ['webpage%s' % i for i in range(1, 11)]\n",
        "wp_list = pd.melt(train_data, id_vars =TARGET, value_vars =wps)\n",
        "wp_list['sitename'] = wp_list['value'].map(id_map['webpage_proc'])\n",
        "wp_list['domain'] = wp_list['value'].map(id_map['domain_only'])\n",
        "wp_list.dropna(axis=0, inplace=True)\n",
        "wp_list.drop(columns=['variable','value'], inplace=True)"
      ],
      "metadata": {
        "id": "LK44SkEaoysl"
      },
      "execution_count": null,
      "outputs": []
    },
    {
      "cell_type": "code",
      "source": [
        "wp_list"
      ],
      "metadata": {
        "colab": {
          "base_uri": "https://localhost:8080/",
          "height": 424
        },
        "id": "-JEvAjeNAPl3",
        "outputId": "1587b10a-9bc0-42c7-970c-5f41d4ac621c"
      },
      "execution_count": null,
      "outputs": [
        {
          "output_type": "execute_result",
          "data": {
            "text/plain": [
              "         target                                           sitename  \\\n",
              "0             0                 journaldelarue.files.wordpress.com   \n",
              "1             0                 journaldelarue.files.wordpress.com   \n",
              "2             0                                  vendre.autobiz.fr   \n",
              "3             0                                          bfcoi.com   \n",
              "4             0                                     gamehdwall.com   \n",
              "...         ...                                                ...   \n",
              "1599682       0                             oxforddictionaries.com   \n",
              "1599683       0                               test-qi-officiel.com   \n",
              "1599684       0                                       sr.symcd.com   \n",
              "1599687       0  i1-js-14-3-01-10005-373759141-i.init.cedexis-r...   \n",
              "1599688       0                                       sr.symcd.com   \n",
              "\n",
              "                         domain  \n",
              "0                 wordpress.com  \n",
              "1                 wordpress.com  \n",
              "2                    autobiz.fr  \n",
              "3                     bfcoi.com  \n",
              "4                gamehdwall.com  \n",
              "...                         ...  \n",
              "1599682  oxforddictionaries.com  \n",
              "1599683    test-qi-officiel.com  \n",
              "1599684               symcd.com  \n",
              "1599687       cedexis-radar.net  \n",
              "1599688               symcd.com  \n",
              "\n",
              "[1222138 rows x 3 columns]"
            ],
            "text/html": [
              "\n",
              "  <div id=\"df-7041aaf5-68f0-4b8e-8560-c05d0a59317d\" class=\"colab-df-container\">\n",
              "    <div>\n",
              "<style scoped>\n",
              "    .dataframe tbody tr th:only-of-type {\n",
              "        vertical-align: middle;\n",
              "    }\n",
              "\n",
              "    .dataframe tbody tr th {\n",
              "        vertical-align: top;\n",
              "    }\n",
              "\n",
              "    .dataframe thead th {\n",
              "        text-align: right;\n",
              "    }\n",
              "</style>\n",
              "<table border=\"1\" class=\"dataframe\">\n",
              "  <thead>\n",
              "    <tr style=\"text-align: right;\">\n",
              "      <th></th>\n",
              "      <th>target</th>\n",
              "      <th>sitename</th>\n",
              "      <th>domain</th>\n",
              "    </tr>\n",
              "  </thead>\n",
              "  <tbody>\n",
              "    <tr>\n",
              "      <th>0</th>\n",
              "      <td>0</td>\n",
              "      <td>journaldelarue.files.wordpress.com</td>\n",
              "      <td>wordpress.com</td>\n",
              "    </tr>\n",
              "    <tr>\n",
              "      <th>1</th>\n",
              "      <td>0</td>\n",
              "      <td>journaldelarue.files.wordpress.com</td>\n",
              "      <td>wordpress.com</td>\n",
              "    </tr>\n",
              "    <tr>\n",
              "      <th>2</th>\n",
              "      <td>0</td>\n",
              "      <td>vendre.autobiz.fr</td>\n",
              "      <td>autobiz.fr</td>\n",
              "    </tr>\n",
              "    <tr>\n",
              "      <th>3</th>\n",
              "      <td>0</td>\n",
              "      <td>bfcoi.com</td>\n",
              "      <td>bfcoi.com</td>\n",
              "    </tr>\n",
              "    <tr>\n",
              "      <th>4</th>\n",
              "      <td>0</td>\n",
              "      <td>gamehdwall.com</td>\n",
              "      <td>gamehdwall.com</td>\n",
              "    </tr>\n",
              "    <tr>\n",
              "      <th>...</th>\n",
              "      <td>...</td>\n",
              "      <td>...</td>\n",
              "      <td>...</td>\n",
              "    </tr>\n",
              "    <tr>\n",
              "      <th>1599682</th>\n",
              "      <td>0</td>\n",
              "      <td>oxforddictionaries.com</td>\n",
              "      <td>oxforddictionaries.com</td>\n",
              "    </tr>\n",
              "    <tr>\n",
              "      <th>1599683</th>\n",
              "      <td>0</td>\n",
              "      <td>test-qi-officiel.com</td>\n",
              "      <td>test-qi-officiel.com</td>\n",
              "    </tr>\n",
              "    <tr>\n",
              "      <th>1599684</th>\n",
              "      <td>0</td>\n",
              "      <td>sr.symcd.com</td>\n",
              "      <td>symcd.com</td>\n",
              "    </tr>\n",
              "    <tr>\n",
              "      <th>1599687</th>\n",
              "      <td>0</td>\n",
              "      <td>i1-js-14-3-01-10005-373759141-i.init.cedexis-r...</td>\n",
              "      <td>cedexis-radar.net</td>\n",
              "    </tr>\n",
              "    <tr>\n",
              "      <th>1599688</th>\n",
              "      <td>0</td>\n",
              "      <td>sr.symcd.com</td>\n",
              "      <td>symcd.com</td>\n",
              "    </tr>\n",
              "  </tbody>\n",
              "</table>\n",
              "<p>1222138 rows × 3 columns</p>\n",
              "</div>\n",
              "    <div class=\"colab-df-buttons\">\n",
              "\n",
              "  <div class=\"colab-df-container\">\n",
              "    <button class=\"colab-df-convert\" onclick=\"convertToInteractive('df-7041aaf5-68f0-4b8e-8560-c05d0a59317d')\"\n",
              "            title=\"Convert this dataframe to an interactive table.\"\n",
              "            style=\"display:none;\">\n",
              "\n",
              "  <svg xmlns=\"http://www.w3.org/2000/svg\" height=\"24px\" viewBox=\"0 -960 960 960\">\n",
              "    <path d=\"M120-120v-720h720v720H120Zm60-500h600v-160H180v160Zm220 220h160v-160H400v160Zm0 220h160v-160H400v160ZM180-400h160v-160H180v160Zm440 0h160v-160H620v160ZM180-180h160v-160H180v160Zm440 0h160v-160H620v160Z\"/>\n",
              "  </svg>\n",
              "    </button>\n",
              "\n",
              "  <style>\n",
              "    .colab-df-container {\n",
              "      display:flex;\n",
              "      gap: 12px;\n",
              "    }\n",
              "\n",
              "    .colab-df-convert {\n",
              "      background-color: #E8F0FE;\n",
              "      border: none;\n",
              "      border-radius: 50%;\n",
              "      cursor: pointer;\n",
              "      display: none;\n",
              "      fill: #1967D2;\n",
              "      height: 32px;\n",
              "      padding: 0 0 0 0;\n",
              "      width: 32px;\n",
              "    }\n",
              "\n",
              "    .colab-df-convert:hover {\n",
              "      background-color: #E2EBFA;\n",
              "      box-shadow: 0px 1px 2px rgba(60, 64, 67, 0.3), 0px 1px 3px 1px rgba(60, 64, 67, 0.15);\n",
              "      fill: #174EA6;\n",
              "    }\n",
              "\n",
              "    .colab-df-buttons div {\n",
              "      margin-bottom: 4px;\n",
              "    }\n",
              "\n",
              "    [theme=dark] .colab-df-convert {\n",
              "      background-color: #3B4455;\n",
              "      fill: #D2E3FC;\n",
              "    }\n",
              "\n",
              "    [theme=dark] .colab-df-convert:hover {\n",
              "      background-color: #434B5C;\n",
              "      box-shadow: 0px 1px 3px 1px rgba(0, 0, 0, 0.15);\n",
              "      filter: drop-shadow(0px 1px 2px rgba(0, 0, 0, 0.3));\n",
              "      fill: #FFFFFF;\n",
              "    }\n",
              "  </style>\n",
              "\n",
              "    <script>\n",
              "      const buttonEl =\n",
              "        document.querySelector('#df-7041aaf5-68f0-4b8e-8560-c05d0a59317d button.colab-df-convert');\n",
              "      buttonEl.style.display =\n",
              "        google.colab.kernel.accessAllowed ? 'block' : 'none';\n",
              "\n",
              "      async function convertToInteractive(key) {\n",
              "        const element = document.querySelector('#df-7041aaf5-68f0-4b8e-8560-c05d0a59317d');\n",
              "        const dataTable =\n",
              "          await google.colab.kernel.invokeFunction('convertToInteractive',\n",
              "                                                    [key], {});\n",
              "        if (!dataTable) return;\n",
              "\n",
              "        const docLinkHtml = 'Like what you see? Visit the ' +\n",
              "          '<a target=\"_blank\" href=https://colab.research.google.com/notebooks/data_table.ipynb>data table notebook</a>'\n",
              "          + ' to learn more about interactive tables.';\n",
              "        element.innerHTML = '';\n",
              "        dataTable['output_type'] = 'display_data';\n",
              "        await google.colab.output.renderOutput(dataTable, element);\n",
              "        const docLink = document.createElement('div');\n",
              "        docLink.innerHTML = docLinkHtml;\n",
              "        element.appendChild(docLink);\n",
              "      }\n",
              "    </script>\n",
              "  </div>\n",
              "\n",
              "\n",
              "<div id=\"df-dfed56a1-293d-46b9-acdd-6c2aeb3910cf\">\n",
              "  <button class=\"colab-df-quickchart\" onclick=\"quickchart('df-dfed56a1-293d-46b9-acdd-6c2aeb3910cf')\"\n",
              "            title=\"Suggest charts\"\n",
              "            style=\"display:none;\">\n",
              "\n",
              "<svg xmlns=\"http://www.w3.org/2000/svg\" height=\"24px\"viewBox=\"0 0 24 24\"\n",
              "     width=\"24px\">\n",
              "    <g>\n",
              "        <path d=\"M19 3H5c-1.1 0-2 .9-2 2v14c0 1.1.9 2 2 2h14c1.1 0 2-.9 2-2V5c0-1.1-.9-2-2-2zM9 17H7v-7h2v7zm4 0h-2V7h2v10zm4 0h-2v-4h2v4z\"/>\n",
              "    </g>\n",
              "</svg>\n",
              "  </button>\n",
              "\n",
              "<style>\n",
              "  .colab-df-quickchart {\n",
              "      --bg-color: #E8F0FE;\n",
              "      --fill-color: #1967D2;\n",
              "      --hover-bg-color: #E2EBFA;\n",
              "      --hover-fill-color: #174EA6;\n",
              "      --disabled-fill-color: #AAA;\n",
              "      --disabled-bg-color: #DDD;\n",
              "  }\n",
              "\n",
              "  [theme=dark] .colab-df-quickchart {\n",
              "      --bg-color: #3B4455;\n",
              "      --fill-color: #D2E3FC;\n",
              "      --hover-bg-color: #434B5C;\n",
              "      --hover-fill-color: #FFFFFF;\n",
              "      --disabled-bg-color: #3B4455;\n",
              "      --disabled-fill-color: #666;\n",
              "  }\n",
              "\n",
              "  .colab-df-quickchart {\n",
              "    background-color: var(--bg-color);\n",
              "    border: none;\n",
              "    border-radius: 50%;\n",
              "    cursor: pointer;\n",
              "    display: none;\n",
              "    fill: var(--fill-color);\n",
              "    height: 32px;\n",
              "    padding: 0;\n",
              "    width: 32px;\n",
              "  }\n",
              "\n",
              "  .colab-df-quickchart:hover {\n",
              "    background-color: var(--hover-bg-color);\n",
              "    box-shadow: 0 1px 2px rgba(60, 64, 67, 0.3), 0 1px 3px 1px rgba(60, 64, 67, 0.15);\n",
              "    fill: var(--button-hover-fill-color);\n",
              "  }\n",
              "\n",
              "  .colab-df-quickchart-complete:disabled,\n",
              "  .colab-df-quickchart-complete:disabled:hover {\n",
              "    background-color: var(--disabled-bg-color);\n",
              "    fill: var(--disabled-fill-color);\n",
              "    box-shadow: none;\n",
              "  }\n",
              "\n",
              "  .colab-df-spinner {\n",
              "    border: 2px solid var(--fill-color);\n",
              "    border-color: transparent;\n",
              "    border-bottom-color: var(--fill-color);\n",
              "    animation:\n",
              "      spin 1s steps(1) infinite;\n",
              "  }\n",
              "\n",
              "  @keyframes spin {\n",
              "    0% {\n",
              "      border-color: transparent;\n",
              "      border-bottom-color: var(--fill-color);\n",
              "      border-left-color: var(--fill-color);\n",
              "    }\n",
              "    20% {\n",
              "      border-color: transparent;\n",
              "      border-left-color: var(--fill-color);\n",
              "      border-top-color: var(--fill-color);\n",
              "    }\n",
              "    30% {\n",
              "      border-color: transparent;\n",
              "      border-left-color: var(--fill-color);\n",
              "      border-top-color: var(--fill-color);\n",
              "      border-right-color: var(--fill-color);\n",
              "    }\n",
              "    40% {\n",
              "      border-color: transparent;\n",
              "      border-right-color: var(--fill-color);\n",
              "      border-top-color: var(--fill-color);\n",
              "    }\n",
              "    60% {\n",
              "      border-color: transparent;\n",
              "      border-right-color: var(--fill-color);\n",
              "    }\n",
              "    80% {\n",
              "      border-color: transparent;\n",
              "      border-right-color: var(--fill-color);\n",
              "      border-bottom-color: var(--fill-color);\n",
              "    }\n",
              "    90% {\n",
              "      border-color: transparent;\n",
              "      border-bottom-color: var(--fill-color);\n",
              "    }\n",
              "  }\n",
              "</style>\n",
              "\n",
              "  <script>\n",
              "    async function quickchart(key) {\n",
              "      const quickchartButtonEl =\n",
              "        document.querySelector('#' + key + ' button');\n",
              "      quickchartButtonEl.disabled = true;  // To prevent multiple clicks.\n",
              "      quickchartButtonEl.classList.add('colab-df-spinner');\n",
              "      try {\n",
              "        const charts = await google.colab.kernel.invokeFunction(\n",
              "            'suggestCharts', [key], {});\n",
              "      } catch (error) {\n",
              "        console.error('Error during call to suggestCharts:', error);\n",
              "      }\n",
              "      quickchartButtonEl.classList.remove('colab-df-spinner');\n",
              "      quickchartButtonEl.classList.add('colab-df-quickchart-complete');\n",
              "    }\n",
              "    (() => {\n",
              "      let quickchartButtonEl =\n",
              "        document.querySelector('#df-dfed56a1-293d-46b9-acdd-6c2aeb3910cf button');\n",
              "      quickchartButtonEl.style.display =\n",
              "        google.colab.kernel.accessAllowed ? 'block' : 'none';\n",
              "    })();\n",
              "  </script>\n",
              "</div>\n",
              "    </div>\n",
              "  </div>\n"
            ]
          },
          "metadata": {},
          "execution_count": 24
        }
      ]
    },
    {
      "cell_type": "code",
      "source": [
        "top_sites0 = wp_list[wp_list[TARGET]==0]['sitename'].value_counts().sort_values(ascending=False).head(10)\n",
        "top_sites0"
      ],
      "metadata": {
        "colab": {
          "base_uri": "https://localhost:8080/"
        },
        "id": "qkahbp0qAPZn",
        "outputId": "186e49ea-defb-48ed-8769-df425454e68e"
      },
      "execution_count": null,
      "outputs": [
        {
          "output_type": "execute_result",
          "data": {
            "text/plain": [
              "toquetudiante.files.wordpress.com                         80224\n",
              "creps-idf.fr                                              58876\n",
              "test-qi-officiel.com                                      38144\n",
              "productsandcompany.pmd.redbull.com                        35050\n",
              "news.bdall.com                                            28663\n",
              "i1-js-14-3-01-11074-512741507-i.init.cedexis-radar.net    24969\n",
              "i1-js-14-3-01-11544-97023739-i.init.cedexis-radar.net     23330\n",
              "i1-js-14-3-01-11074-963595481-i.init.cedexis-radar.net    22015\n",
              "livedemo00.template-help.com                              20853\n",
              "i1-js-14-3-01-10077-346208291-i.init.cedexis-radar.net    18047\n",
              "Name: sitename, dtype: int64"
            ]
          },
          "metadata": {},
          "execution_count": 25
        }
      ]
    },
    {
      "cell_type": "code",
      "source": [
        "top_domain0 = wp_list[wp_list[TARGET]==0]['domain'].value_counts().sort_values(ascending=False).head(10)\n",
        "top_domain0"
      ],
      "metadata": {
        "colab": {
          "base_uri": "https://localhost:8080/"
        },
        "id": "zvGfwmHSsZk6",
        "outputId": "51cf1b1a-d727-471f-cd83-1be6589506d0"
      },
      "execution_count": null,
      "outputs": [
        {
          "output_type": "execute_result",
          "data": {
            "text/plain": [
              "cedexis-radar.net       184622\n",
              "wordpress.com            96700\n",
              "creps-idf.fr             58876\n",
              "test-qi-officiel.com     38144\n",
              "redbull.com              35051\n",
              "bdall.com                28663\n",
              "template-help.com        20853\n",
              "wondercity.com           17423\n",
              "konbini.com              16629\n",
              "free.fr                  16551\n",
              "Name: domain, dtype: int64"
            ]
          },
          "metadata": {},
          "execution_count": 26
        }
      ]
    },
    {
      "cell_type": "code",
      "source": [
        "top_sites1 = wp_list[wp_list[TARGET]==1]['sitename'].value_counts().sort_values(ascending=False).head(10)\n",
        "top_sites1"
      ],
      "metadata": {
        "colab": {
          "base_uri": "https://localhost:8080/"
        },
        "id": "UyhtkZOwofps",
        "outputId": "b723c66e-85e3-4330-fc44-3fe7f78600d9"
      },
      "execution_count": null,
      "outputs": [
        {
          "output_type": "execute_result",
          "data": {
            "text/plain": [
              "i1-js-14-3-01-11074-963595481-i.init.cedexis-radar.net    1147\n",
              "sr.symcd.com                                               973\n",
              "i1-js-14-3-01-10005-373759141-i.init.cedexis-radar.net     915\n",
              "productsandcompany.pmd.redbull.com                         645\n",
              "toquetudiante.files.wordpress.com                          627\n",
              "i1-js-14-3-01-10013-878999337-i.init.cedexis-radar.net     477\n",
              "images.reply.perkinelmer.com                               377\n",
              "img.uscri.be                                               304\n",
              "creps-idf.fr                                               293\n",
              "test-qi-officiel.com                                       277\n",
              "Name: sitename, dtype: int64"
            ]
          },
          "metadata": {},
          "execution_count": 27
        }
      ]
    },
    {
      "cell_type": "code",
      "source": [
        "top_domain1 = wp_list[wp_list[TARGET]==1]['domain'].value_counts().sort_values(ascending=False).head(10)\n",
        "top_domain1"
      ],
      "metadata": {
        "colab": {
          "base_uri": "https://localhost:8080/"
        },
        "id": "rPGPAFpXofmp",
        "outputId": "616e428f-aef5-429a-c064-f5645d647706"
      },
      "execution_count": null,
      "outputs": [
        {
          "output_type": "execute_result",
          "data": {
            "text/plain": [
              "cedexis-radar.net       3637\n",
              "symcd.com                973\n",
              "wordpress.com            680\n",
              "redbull.com              645\n",
              "perkinelmer.com          377\n",
              "free.fr                  323\n",
              "uscri.be                 304\n",
              "creps-idf.fr             293\n",
              "test-qi-officiel.com     277\n",
              "disqus.com               274\n",
              "Name: domain, dtype: int64"
            ]
          },
          "metadata": {},
          "execution_count": 28
        }
      ]
    },
    {
      "cell_type": "markdown",
      "source": [
        "If we only ispection the main domains, we can see similarities between the 2 classes, so it is better to use subdomains too for differentiating between the 2 classes."
      ],
      "metadata": {
        "id": "eBz3gEtjqSpN"
      }
    },
    {
      "cell_type": "code",
      "source": [
        "nr_of_webpages = pd.DataFrame({'nr_of_webpages':train_data[wps].isnull().sum(axis=1)})\n",
        "data = pd.concat([train_data[TARGET], nr_of_webpages], axis=1)\n",
        "data['nr_of_webpages'] = data['nr_of_webpages'].apply(lambda x: 10-x)\n",
        "data"
      ],
      "metadata": {
        "colab": {
          "base_uri": "https://localhost:8080/",
          "height": 455
        },
        "id": "ErjzpgpMofjy",
        "outputId": "66e3a607-aea6-466a-854f-9f28d4c8078f"
      },
      "execution_count": null,
      "outputs": [
        {
          "output_type": "execute_result",
          "data": {
            "text/plain": [
              "            target  nr_of_webpages\n",
              "session_id                        \n",
              "13694            0               2\n",
              "34657            0               4\n",
              "48835            0              10\n",
              "71986            0              10\n",
              "92602            0              10\n",
              "...            ...             ...\n",
              "129531           0               3\n",
              "24530            0               3\n",
              "139265           0              10\n",
              "43125            0              10\n",
              "9075             0               3\n",
              "\n",
              "[159969 rows x 2 columns]"
            ],
            "text/html": [
              "\n",
              "  <div id=\"df-1311509b-dffc-42b1-b7f7-73242c63069d\" class=\"colab-df-container\">\n",
              "    <div>\n",
              "<style scoped>\n",
              "    .dataframe tbody tr th:only-of-type {\n",
              "        vertical-align: middle;\n",
              "    }\n",
              "\n",
              "    .dataframe tbody tr th {\n",
              "        vertical-align: top;\n",
              "    }\n",
              "\n",
              "    .dataframe thead th {\n",
              "        text-align: right;\n",
              "    }\n",
              "</style>\n",
              "<table border=\"1\" class=\"dataframe\">\n",
              "  <thead>\n",
              "    <tr style=\"text-align: right;\">\n",
              "      <th></th>\n",
              "      <th>target</th>\n",
              "      <th>nr_of_webpages</th>\n",
              "    </tr>\n",
              "    <tr>\n",
              "      <th>session_id</th>\n",
              "      <th></th>\n",
              "      <th></th>\n",
              "    </tr>\n",
              "  </thead>\n",
              "  <tbody>\n",
              "    <tr>\n",
              "      <th>13694</th>\n",
              "      <td>0</td>\n",
              "      <td>2</td>\n",
              "    </tr>\n",
              "    <tr>\n",
              "      <th>34657</th>\n",
              "      <td>0</td>\n",
              "      <td>4</td>\n",
              "    </tr>\n",
              "    <tr>\n",
              "      <th>48835</th>\n",
              "      <td>0</td>\n",
              "      <td>10</td>\n",
              "    </tr>\n",
              "    <tr>\n",
              "      <th>71986</th>\n",
              "      <td>0</td>\n",
              "      <td>10</td>\n",
              "    </tr>\n",
              "    <tr>\n",
              "      <th>92602</th>\n",
              "      <td>0</td>\n",
              "      <td>10</td>\n",
              "    </tr>\n",
              "    <tr>\n",
              "      <th>...</th>\n",
              "      <td>...</td>\n",
              "      <td>...</td>\n",
              "    </tr>\n",
              "    <tr>\n",
              "      <th>129531</th>\n",
              "      <td>0</td>\n",
              "      <td>3</td>\n",
              "    </tr>\n",
              "    <tr>\n",
              "      <th>24530</th>\n",
              "      <td>0</td>\n",
              "      <td>3</td>\n",
              "    </tr>\n",
              "    <tr>\n",
              "      <th>139265</th>\n",
              "      <td>0</td>\n",
              "      <td>10</td>\n",
              "    </tr>\n",
              "    <tr>\n",
              "      <th>43125</th>\n",
              "      <td>0</td>\n",
              "      <td>10</td>\n",
              "    </tr>\n",
              "    <tr>\n",
              "      <th>9075</th>\n",
              "      <td>0</td>\n",
              "      <td>3</td>\n",
              "    </tr>\n",
              "  </tbody>\n",
              "</table>\n",
              "<p>159969 rows × 2 columns</p>\n",
              "</div>\n",
              "    <div class=\"colab-df-buttons\">\n",
              "\n",
              "  <div class=\"colab-df-container\">\n",
              "    <button class=\"colab-df-convert\" onclick=\"convertToInteractive('df-1311509b-dffc-42b1-b7f7-73242c63069d')\"\n",
              "            title=\"Convert this dataframe to an interactive table.\"\n",
              "            style=\"display:none;\">\n",
              "\n",
              "  <svg xmlns=\"http://www.w3.org/2000/svg\" height=\"24px\" viewBox=\"0 -960 960 960\">\n",
              "    <path d=\"M120-120v-720h720v720H120Zm60-500h600v-160H180v160Zm220 220h160v-160H400v160Zm0 220h160v-160H400v160ZM180-400h160v-160H180v160Zm440 0h160v-160H620v160ZM180-180h160v-160H180v160Zm440 0h160v-160H620v160Z\"/>\n",
              "  </svg>\n",
              "    </button>\n",
              "\n",
              "  <style>\n",
              "    .colab-df-container {\n",
              "      display:flex;\n",
              "      gap: 12px;\n",
              "    }\n",
              "\n",
              "    .colab-df-convert {\n",
              "      background-color: #E8F0FE;\n",
              "      border: none;\n",
              "      border-radius: 50%;\n",
              "      cursor: pointer;\n",
              "      display: none;\n",
              "      fill: #1967D2;\n",
              "      height: 32px;\n",
              "      padding: 0 0 0 0;\n",
              "      width: 32px;\n",
              "    }\n",
              "\n",
              "    .colab-df-convert:hover {\n",
              "      background-color: #E2EBFA;\n",
              "      box-shadow: 0px 1px 2px rgba(60, 64, 67, 0.3), 0px 1px 3px 1px rgba(60, 64, 67, 0.15);\n",
              "      fill: #174EA6;\n",
              "    }\n",
              "\n",
              "    .colab-df-buttons div {\n",
              "      margin-bottom: 4px;\n",
              "    }\n",
              "\n",
              "    [theme=dark] .colab-df-convert {\n",
              "      background-color: #3B4455;\n",
              "      fill: #D2E3FC;\n",
              "    }\n",
              "\n",
              "    [theme=dark] .colab-df-convert:hover {\n",
              "      background-color: #434B5C;\n",
              "      box-shadow: 0px 1px 3px 1px rgba(0, 0, 0, 0.15);\n",
              "      filter: drop-shadow(0px 1px 2px rgba(0, 0, 0, 0.3));\n",
              "      fill: #FFFFFF;\n",
              "    }\n",
              "  </style>\n",
              "\n",
              "    <script>\n",
              "      const buttonEl =\n",
              "        document.querySelector('#df-1311509b-dffc-42b1-b7f7-73242c63069d button.colab-df-convert');\n",
              "      buttonEl.style.display =\n",
              "        google.colab.kernel.accessAllowed ? 'block' : 'none';\n",
              "\n",
              "      async function convertToInteractive(key) {\n",
              "        const element = document.querySelector('#df-1311509b-dffc-42b1-b7f7-73242c63069d');\n",
              "        const dataTable =\n",
              "          await google.colab.kernel.invokeFunction('convertToInteractive',\n",
              "                                                    [key], {});\n",
              "        if (!dataTable) return;\n",
              "\n",
              "        const docLinkHtml = 'Like what you see? Visit the ' +\n",
              "          '<a target=\"_blank\" href=https://colab.research.google.com/notebooks/data_table.ipynb>data table notebook</a>'\n",
              "          + ' to learn more about interactive tables.';\n",
              "        element.innerHTML = '';\n",
              "        dataTable['output_type'] = 'display_data';\n",
              "        await google.colab.output.renderOutput(dataTable, element);\n",
              "        const docLink = document.createElement('div');\n",
              "        docLink.innerHTML = docLinkHtml;\n",
              "        element.appendChild(docLink);\n",
              "      }\n",
              "    </script>\n",
              "  </div>\n",
              "\n",
              "\n",
              "<div id=\"df-e8583fe1-afc8-42f6-a121-99bfcd2d8106\">\n",
              "  <button class=\"colab-df-quickchart\" onclick=\"quickchart('df-e8583fe1-afc8-42f6-a121-99bfcd2d8106')\"\n",
              "            title=\"Suggest charts\"\n",
              "            style=\"display:none;\">\n",
              "\n",
              "<svg xmlns=\"http://www.w3.org/2000/svg\" height=\"24px\"viewBox=\"0 0 24 24\"\n",
              "     width=\"24px\">\n",
              "    <g>\n",
              "        <path d=\"M19 3H5c-1.1 0-2 .9-2 2v14c0 1.1.9 2 2 2h14c1.1 0 2-.9 2-2V5c0-1.1-.9-2-2-2zM9 17H7v-7h2v7zm4 0h-2V7h2v10zm4 0h-2v-4h2v4z\"/>\n",
              "    </g>\n",
              "</svg>\n",
              "  </button>\n",
              "\n",
              "<style>\n",
              "  .colab-df-quickchart {\n",
              "      --bg-color: #E8F0FE;\n",
              "      --fill-color: #1967D2;\n",
              "      --hover-bg-color: #E2EBFA;\n",
              "      --hover-fill-color: #174EA6;\n",
              "      --disabled-fill-color: #AAA;\n",
              "      --disabled-bg-color: #DDD;\n",
              "  }\n",
              "\n",
              "  [theme=dark] .colab-df-quickchart {\n",
              "      --bg-color: #3B4455;\n",
              "      --fill-color: #D2E3FC;\n",
              "      --hover-bg-color: #434B5C;\n",
              "      --hover-fill-color: #FFFFFF;\n",
              "      --disabled-bg-color: #3B4455;\n",
              "      --disabled-fill-color: #666;\n",
              "  }\n",
              "\n",
              "  .colab-df-quickchart {\n",
              "    background-color: var(--bg-color);\n",
              "    border: none;\n",
              "    border-radius: 50%;\n",
              "    cursor: pointer;\n",
              "    display: none;\n",
              "    fill: var(--fill-color);\n",
              "    height: 32px;\n",
              "    padding: 0;\n",
              "    width: 32px;\n",
              "  }\n",
              "\n",
              "  .colab-df-quickchart:hover {\n",
              "    background-color: var(--hover-bg-color);\n",
              "    box-shadow: 0 1px 2px rgba(60, 64, 67, 0.3), 0 1px 3px 1px rgba(60, 64, 67, 0.15);\n",
              "    fill: var(--button-hover-fill-color);\n",
              "  }\n",
              "\n",
              "  .colab-df-quickchart-complete:disabled,\n",
              "  .colab-df-quickchart-complete:disabled:hover {\n",
              "    background-color: var(--disabled-bg-color);\n",
              "    fill: var(--disabled-fill-color);\n",
              "    box-shadow: none;\n",
              "  }\n",
              "\n",
              "  .colab-df-spinner {\n",
              "    border: 2px solid var(--fill-color);\n",
              "    border-color: transparent;\n",
              "    border-bottom-color: var(--fill-color);\n",
              "    animation:\n",
              "      spin 1s steps(1) infinite;\n",
              "  }\n",
              "\n",
              "  @keyframes spin {\n",
              "    0% {\n",
              "      border-color: transparent;\n",
              "      border-bottom-color: var(--fill-color);\n",
              "      border-left-color: var(--fill-color);\n",
              "    }\n",
              "    20% {\n",
              "      border-color: transparent;\n",
              "      border-left-color: var(--fill-color);\n",
              "      border-top-color: var(--fill-color);\n",
              "    }\n",
              "    30% {\n",
              "      border-color: transparent;\n",
              "      border-left-color: var(--fill-color);\n",
              "      border-top-color: var(--fill-color);\n",
              "      border-right-color: var(--fill-color);\n",
              "    }\n",
              "    40% {\n",
              "      border-color: transparent;\n",
              "      border-right-color: var(--fill-color);\n",
              "      border-top-color: var(--fill-color);\n",
              "    }\n",
              "    60% {\n",
              "      border-color: transparent;\n",
              "      border-right-color: var(--fill-color);\n",
              "    }\n",
              "    80% {\n",
              "      border-color: transparent;\n",
              "      border-right-color: var(--fill-color);\n",
              "      border-bottom-color: var(--fill-color);\n",
              "    }\n",
              "    90% {\n",
              "      border-color: transparent;\n",
              "      border-bottom-color: var(--fill-color);\n",
              "    }\n",
              "  }\n",
              "</style>\n",
              "\n",
              "  <script>\n",
              "    async function quickchart(key) {\n",
              "      const quickchartButtonEl =\n",
              "        document.querySelector('#' + key + ' button');\n",
              "      quickchartButtonEl.disabled = true;  // To prevent multiple clicks.\n",
              "      quickchartButtonEl.classList.add('colab-df-spinner');\n",
              "      try {\n",
              "        const charts = await google.colab.kernel.invokeFunction(\n",
              "            'suggestCharts', [key], {});\n",
              "      } catch (error) {\n",
              "        console.error('Error during call to suggestCharts:', error);\n",
              "      }\n",
              "      quickchartButtonEl.classList.remove('colab-df-spinner');\n",
              "      quickchartButtonEl.classList.add('colab-df-quickchart-complete');\n",
              "    }\n",
              "    (() => {\n",
              "      let quickchartButtonEl =\n",
              "        document.querySelector('#df-e8583fe1-afc8-42f6-a121-99bfcd2d8106 button');\n",
              "      quickchartButtonEl.style.display =\n",
              "        google.colab.kernel.accessAllowed ? 'block' : 'none';\n",
              "    })();\n",
              "  </script>\n",
              "</div>\n",
              "    </div>\n",
              "  </div>\n"
            ]
          },
          "metadata": {},
          "execution_count": 29
        }
      ]
    },
    {
      "cell_type": "code",
      "source": [
        "plt.figure(figsize=(10,4))\n",
        "sns.set_style(\"whitegrid\")\n",
        "sns.barplot(x=TARGET,y='nr_of_webpages',data=data, color='steelblue',estimator='mean').set(title='Average nr of webpages by target')"
      ],
      "metadata": {
        "colab": {
          "base_uri": "https://localhost:8080/",
          "height": 432
        },
        "id": "nyBI4R6Dofe_",
        "outputId": "afe1fc52-a606-4707-8b22-871e4634766b"
      },
      "execution_count": null,
      "outputs": [
        {
          "output_type": "execute_result",
          "data": {
            "text/plain": [
              "<Figure size 1000x400 with 0 Axes>"
            ]
          },
          "metadata": {},
          "execution_count": 19
        },
        {
          "output_type": "execute_result",
          "data": {
            "text/plain": [
              "[Text(0.5, 1.0, 'Average nr of webpages by target')]"
            ]
          },
          "metadata": {},
          "execution_count": 19
        },
        {
          "output_type": "display_data",
          "data": {
            "text/plain": [
              "<Figure size 1000x400 with 1 Axes>"
            ],
            "image/png": "[encoded data removed]"
          },
          "metadata": {}
        }
      ]
    },
    {
      "cell_type": "markdown",
      "source": [
        "We can't see a siginificant differnce between the average number of webpages, opened in 1 session"
      ],
      "metadata": {
        "id": "-Pks9iAmrKip"
      }
    },
    {
      "cell_type": "markdown",
      "source": [
        "## Pipelines"
      ],
      "metadata": {
        "id": "llChHZT20P4a"
      }
    },
    {
      "cell_type": "code",
      "source": [
        "class BaseTransformer(BaseEstimator, TransformerMixin):\n",
        "  def __init__(self):\n",
        "    return None\n",
        "\n",
        "  def fit(self, X=None, y=None):\n",
        "    return self\n",
        "\n",
        "  def transform(self, X=None, y=None):\n",
        "    return self"
      ],
      "metadata": {
        "id": "xTEWOg25k0Az"
      },
      "execution_count": null,
      "outputs": []
    },
    {
      "cell_type": "code",
      "source": [
        "class AttributesAdder(BaseTransformer):\n",
        "    \"\"\"\n",
        "    Add new attributes to training and test set.\n",
        "    \"\"\"\n",
        "    def fit(self, X, y=None):\n",
        "        return self\n",
        "\n",
        "    def transform(self, X, y=None):\n",
        "      times = ['time%s' % i for i in range(1, 11)]\n",
        "      wps = ['webpage%s' % i for i in range(1, 11)]\n",
        "\n",
        "      month = X['time1'].apply(lambda ts: ts.month).astype('int')\n",
        "      day = X['time1'].apply(lambda ts: ts.day).astype('int')\n",
        "      weekday = X['time1'].apply(lambda ts: ts.isoweekday()).astype('int')\n",
        "      hour = X['time1'].apply(lambda ts: ts.hour).astype('int')\n",
        "      session_len = (X[times].max(axis=1) - X[times].min(axis=1)).dt.seconds.astype('int')\n",
        "\n",
        "      number_of_wps = X[wps].isnull().sum(axis=1).apply(lambda x: 10 - x)\n",
        "\n",
        "      X = np.c_[month.values, day.values, weekday.values, hour.values, session_len.values, number_of_wps.values]\n",
        "\n",
        "      return X"
      ],
      "metadata": {
        "id": "elwAsVqOkz-V"
      },
      "execution_count": null,
      "outputs": []
    },
    {
      "cell_type": "code",
      "source": [
        "class DataPreparator(BaseTransformer):\n",
        "  \"\"\"\n",
        "  Fill NaN with zero values.\n",
        "  \"\"\"\n",
        "  def fit(self, X, y=None):\n",
        "    return self\n",
        "  def transform(self, X, y=None):\n",
        "    wps = ['webpage%s' % i for i in range(1, 11)]\n",
        "    return X[wps].fillna(0).astype('int')\n",
        "\n",
        "class ListPreparator(BaseTransformer):\n",
        "  def fit(self, X, y=None):\n",
        "    return self\n",
        "  def transform(self, X, y=None):\n",
        "    X = X.values.tolist()\n",
        "    # Convert dataframe rows to strings\n",
        "    return [\" \".join([str(site) for site in row]) for row in X]"
      ],
      "metadata": {
        "id": "deaA9iJRu38R"
      },
      "execution_count": null,
      "outputs": []
    },
    {
      "cell_type": "code",
      "source": [
        "vectorizer_pipeline = Pipeline([\n",
        "  (\"preparator\", DataPreparator()),\n",
        "  (\"list_preparator\", ListPreparator()),\n",
        "  (\"vectorizer\", CountVectorizer(ngram_range=(1, 3), max_features=10000))\n",
        "])\n",
        "\n",
        "attributes_pipeline = Pipeline([\n",
        "  (\"adder\", AttributesAdder())\n",
        "])"
      ],
      "metadata": {
        "id": "Qs4EmO9Lu3_N"
      },
      "execution_count": null,
      "outputs": []
    },
    {
      "cell_type": "code",
      "source": [
        "full_pipeline = FeatureUnion(transformer_list=[\n",
        "  ('vectorizer_pipeline', vectorizer_pipeline),\n",
        "  ('attributes_pipeline', attributes_pipeline)\n",
        "])"
      ],
      "metadata": {
        "id": "t_YkG-kAu4B7"
      },
      "execution_count": null,
      "outputs": []
    },
    {
      "cell_type": "code",
      "source": [
        "X_train = full_pipeline.fit_transform(train_data)\n",
        "X_test = full_pipeline.transform(test_data)"
      ],
      "metadata": {
        "id": "HEvKAiwDu4Ew"
      },
      "execution_count": null,
      "outputs": []
    },
    {
      "cell_type": "code",
      "source": [
        "X_train.shape\n",
        "X_test.shape"
      ],
      "metadata": {
        "colab": {
          "base_uri": "https://localhost:8080/"
        },
        "id": "TyeHubFGEmEp",
        "outputId": "0937e72c-a7a3-44d0-d3af-b7ddf03de80f"
      },
      "execution_count": null,
      "outputs": [
        {
          "output_type": "execute_result",
          "data": {
            "text/plain": [
              "(159969, 10006)"
            ]
          },
          "metadata": {},
          "execution_count": 22
        },
        {
          "output_type": "execute_result",
          "data": {
            "text/plain": [
              "(93338, 10006)"
            ]
          },
          "metadata": {},
          "execution_count": 22
        }
      ]
    },
    {
      "cell_type": "code",
      "source": [
        "y_train = train_data[TARGET]\n",
        "y_train.shape"
      ],
      "metadata": {
        "colab": {
          "base_uri": "https://localhost:8080/"
        },
        "id": "KfKHN_OqqcHB",
        "outputId": "8c9f91dd-e4be-4ea6-df10-49f619f52486"
      },
      "execution_count": null,
      "outputs": [
        {
          "output_type": "execute_result",
          "data": {
            "text/plain": [
              "(159969,)"
            ]
          },
          "metadata": {},
          "execution_count": 23
        }
      ]
    },
    {
      "cell_type": "markdown",
      "source": [
        "## Models"
      ],
      "metadata": {
        "id": "-lyolpR1HQ8p"
      }
    },
    {
      "cell_type": "markdown",
      "source": [
        "### Helper functions"
      ],
      "metadata": {
        "id": "pIGxk0NOu5Jy"
      }
    },
    {
      "cell_type": "code",
      "source": [
        "def evaluate_model(classifier, train_set, train_target, skf, metrics=[roc_auc_score]):\n",
        "  classifier.fit(train_set, train_target)\n",
        "  results = get_model_metrics(classifier, train_set, train_target, skf, metrics=[roc_auc_score])\n",
        "  return results\n",
        "\n",
        "def get_model_metrics(classifier, train_set, train_target, skf, metrics=[roc_auc_score]):\n",
        "  metrics_result = dict()\n",
        "  for metric in metrics:\n",
        "    score = cross_val_score(classifier, train_set, train_target, cv=skf, scoring='roc_auc').mean()\n",
        "    print(\"{} for model {} = {:.3f}\".format(metric.__name__, classifier.__class__.__name__, score))\n",
        "    metrics_result[metric.__name__] = score\n",
        "    metrics_result['classifier'] = classifier.__class__.__name__\n",
        "    return metrics_result"
      ],
      "metadata": {
        "id": "lfp4eFytu4P6"
      },
      "execution_count": null,
      "outputs": []
    },
    {
      "cell_type": "code",
      "source": [
        "def plot_importance(est, colnames, class_nr, top_n=20):\n",
        "  importance = pd.DataFrame({\n",
        "      'abs_weight': np.abs(est.feature_importances_[:]),\n",
        "      'feature': colnames\n",
        "  })\n",
        "\n",
        "  imp20 = importance.sort_values(by='abs_weight', ascending=False)[:top_n]\n",
        "  sns.barplot(y='feature', x='abs_weight', data=imp20, orient='h').set(title=f'Class {class_nr}')"
      ],
      "metadata": {
        "id": "N_0GmSUuEVi1"
      },
      "execution_count": null,
      "outputs": []
    },
    {
      "cell_type": "code",
      "source": [
        "results_by_model = pd.DataFrame()\n",
        "skf = StratifiedKFold(n_splits=5,shuffle=True,random_state=10)"
      ],
      "metadata": {
        "id": "gAyuSaaBIVVv"
      },
      "execution_count": null,
      "outputs": []
    },
    {
      "cell_type": "markdown",
      "source": [
        "### DecisionTree Classifier"
      ],
      "metadata": {
        "id": "pNKhC2Dkryuy"
      }
    },
    {
      "cell_type": "code",
      "source": [
        "base_tree = DecisionTreeClassifier(random_state=SEED)\n",
        "result_dict = evaluate_model(base_tree, X_train, y_train, skf)\n",
        "results_by_model = results_by_model.append(result_dict, ignore_index=True)"
      ],
      "metadata": {
        "id": "Am20J4nq3dfS",
        "colab": {
          "base_uri": "https://localhost:8080/"
        },
        "outputId": "331c5929-e748-474a-b28d-8692d7eef705"
      },
      "execution_count": null,
      "outputs": [
        {
          "output_type": "stream",
          "name": "stdout",
          "text": [
            "roc_auc_score for model DecisionTreeClassifier = 0.829\n"
          ]
        }
      ]
    },
    {
      "cell_type": "code",
      "source": [
        "base_tree_b = DecisionTreeClassifier(random_state=SEED, class_weight='balanced')\n",
        "result_dict = evaluate_model(base_tree, X_train, y_train, skf)\n",
        "results_by_model = results_by_model.append(result_dict, ignore_index=True)"
      ],
      "metadata": {
        "colab": {
          "base_uri": "https://localhost:8080/"
        },
        "id": "zHTqhGUljnJn",
        "outputId": "43c846d9-8533-444b-e69a-0c9f9a8687b0"
      },
      "execution_count": null,
      "outputs": [
        {
          "output_type": "stream",
          "name": "stdout",
          "text": [
            "roc_auc_score for model DecisionTreeClassifier = 0.829\n"
          ]
        }
      ]
    },
    {
      "cell_type": "code",
      "source": [
        "def objective(params):\n",
        "    # Parameters to be optimized\n",
        "    max_depth = int(params['max_depth'])\n",
        "    min_samples_split = int(params['min_samples_split'])\n",
        "    min_samples_leaf = int(params['min_samples_leaf'])\n",
        "\n",
        "    # Create DecisionTreeClassifier with specified hyperparameters\n",
        "    dt_clf = DecisionTreeClassifier(random_state=42, max_depth=max_depth, min_samples_split=min_samples_split, min_samples_leaf=min_samples_leaf)\n",
        "\n",
        "    # Fit the model on training data\n",
        "    dt_clf.fit(X_train, y_train)\n",
        "\n",
        "    # Calculate accuracy as the objective to be minimized by Hyperopt\n",
        "    roc_auc = cross_val_score(dt_clf, X_train, y_train, cv=skf, scoring='roc_auc').mean()\n",
        "\n",
        "    return 1 - roc_auc  # Hyperopt minimizes the objective function\n",
        "\n",
        "# Define the search space for hyperparameters\n",
        "space = {\n",
        "    'max_depth': hp.quniform('max_depth', 1, 10, 1),\n",
        "    'min_samples_split': hp.quniform('min_samples_split', 2, 10, 1),\n",
        "    'min_samples_leaf': hp.quniform('min_samples_leaf', 1, 10, 1),\n",
        "}\n",
        "\n",
        "# Use the Tree-structured Parzen Estimator (TPE) algorithm for optimization\n",
        "best = fmin(fn=objective, space=space, algo=tpe.suggest, max_evals=10)\n",
        "\n",
        "print(\"Best Hyperparameters:\", best)"
      ],
      "metadata": {
        "colab": {
          "base_uri": "https://localhost:8080/"
        },
        "id": "ZZFiy48eGa-n",
        "outputId": "2a9a8c45-c9d1-45fd-c473-7119c5a9b000"
      },
      "execution_count": null,
      "outputs": [
        {
          "output_type": "stream",
          "name": "stdout",
          "text": [
            "100%|██████████| 10/10 [00:34<00:00,  3.42s/trial, best loss: 0.17829098450362102]\n",
            "Best Hyperparameters: {'max_depth': 8.0, 'min_samples_leaf': 4.0, 'min_samples_split': 9.0}\n"
          ]
        }
      ]
    },
    {
      "cell_type": "code",
      "source": [
        "best_dt = DecisionTreeClassifier(random_state=42, max_depth=int(best['max_depth']), min_samples_split=int(best['min_samples_split']), min_samples_leaf=int(best['min_samples_leaf']))\n",
        "result_dict = evaluate_model(best_dt, X_train, y_train, skf)\n",
        "results_by_model = results_by_model.append(result_dict, ignore_index=True)"
      ],
      "metadata": {
        "colab": {
          "base_uri": "https://localhost:8080/"
        },
        "id": "vHlZDgHsMJzW",
        "outputId": "97ba79d7-035d-4955-e63e-7e368bf6b4a2"
      },
      "execution_count": null,
      "outputs": [
        {
          "output_type": "stream",
          "name": "stdout",
          "text": [
            "roc_auc_score for model DecisionTreeClassifier = 0.822\n"
          ]
        }
      ]
    },
    {
      "cell_type": "markdown",
      "source": [
        "The best ROC-AUC score was 82.9 for DecisionTree classifier, even with using class weight function\n",
        "\n",
        "Using SMOTE oversampling helped significantly improve the scores"
      ],
      "metadata": {
        "id": "igBhllqmr7tz"
      }
    },
    {
      "cell_type": "markdown",
      "source": [
        "### Random Forest Classifier"
      ],
      "metadata": {
        "id": "HjBej__KsXdp"
      }
    },
    {
      "cell_type": "code",
      "source": [
        "rf = RandomForestClassifier(random_state=42, class_weight='balanced')\n",
        "result_dict = evaluate_model(rf, X_train, y_train, skf)\n",
        "results_by_model = results_by_model.append(result_dict, ignore_index=True)"
      ],
      "metadata": {
        "id": "SN-xN6CL3dk4",
        "colab": {
          "base_uri": "https://localhost:8080/"
        },
        "outputId": "c9c4bf69-2baa-4fbe-b520-61649a2d115a"
      },
      "execution_count": null,
      "outputs": [
        {
          "output_type": "stream",
          "name": "stdout",
          "text": [
            "roc_auc_score for model RandomForestClassifier = 0.980\n"
          ]
        }
      ]
    },
    {
      "cell_type": "code",
      "source": [
        "# Define the objective function for Hyperopt\n",
        "def objective(params):\n",
        "    # Parameters to be optimized\n",
        "    n_estimators = int(params['n_estimators'])\n",
        "    max_depth = int(params['max_depth'])\n",
        "    min_samples_split = int(params['min_samples_split'])\n",
        "    min_samples_leaf = int(params['min_samples_leaf'])\n",
        "\n",
        "    # Create RandomForestClassifier with specified hyperparameters\n",
        "    rf_clf = RandomForestClassifier(\n",
        "        n_estimators=n_estimators,\n",
        "        max_depth=max_depth,\n",
        "        min_samples_split=min_samples_split,\n",
        "        min_samples_leaf=min_samples_leaf,\n",
        "        random_state=42\n",
        "    )\n",
        "\n",
        "    # Fit the model on training data\n",
        "    rf_clf.fit(X_train, y_train)\n",
        "\n",
        "    # Calculate accuracy as the objective to be minimized by Hyperopt\n",
        "    roc_auc = cross_val_score(rf_clf, X_train, y_train, cv=skf, scoring='roc_auc').mean()\n",
        "\n",
        "    return 1 - roc_auc  # Hyperopt minimizes the objective function\n",
        "\n",
        "# Define the search space for hyperparameters\n",
        "space = {\n",
        "    'n_estimators': hp.quniform('n_estimators', 10, 200, 1),\n",
        "    'max_depth': hp.quniform('max_depth', 1, 20, 1),\n",
        "    'min_samples_split': hp.quniform('min_samples_split', 2, 20, 1),\n",
        "    'min_samples_leaf': hp.quniform('min_samples_leaf', 1, 20, 1),\n",
        "}\n",
        "\n",
        "# Use the Tree-structured Parzen Estimator (TPE) algorithm for optimization\n",
        "best = fmin(fn=objective, space=space, algo=tpe.suggest, max_evals=10)\n",
        "\n",
        "print(\"Best Hyperparameters:\", best)"
      ],
      "metadata": {
        "colab": {
          "base_uri": "https://localhost:8080/"
        },
        "id": "DWXcC2QsNwkN",
        "outputId": "472ed53c-0f28-4e48-8ced-852662a2b2e9"
      },
      "execution_count": null,
      "outputs": [
        {
          "output_type": "stream",
          "name": "stdout",
          "text": [
            "100%|██████████| 10/10 [03:33<00:00, 21.31s/trial, best loss: 0.07272591979536858]\n",
            "Best Hyperparameters: {'max_depth': 15.0, 'min_samples_leaf': 11.0, 'min_samples_split': 6.0, 'n_estimators': 58.0}\n"
          ]
        }
      ]
    },
    {
      "cell_type": "code",
      "source": [
        "best_rf = RandomForestClassifier(\n",
        "        n_estimators=int(best['n_estimators']),\n",
        "        max_depth=int(best['max_depth']),\n",
        "        min_samples_split=int(best['min_samples_split']),\n",
        "        min_samples_leaf=int(best['min_samples_leaf']),\n",
        "        random_state=42, class_weight='balanced'\n",
        "    )\n",
        "\n",
        "result_dict = evaluate_model(best_rf, X_train, y_train, skf)\n",
        "results_by_model = results_by_model.append(result_dict, ignore_index=True)"
      ],
      "metadata": {
        "colab": {
          "base_uri": "https://localhost:8080/"
        },
        "id": "tuzG393g0QAI",
        "outputId": "4d00ca1a-9030-4d11-e3f9-0586bcde9acc"
      },
      "execution_count": null,
      "outputs": [
        {
          "output_type": "stream",
          "name": "stdout",
          "text": [
            "roc_auc_score for model RandomForestClassifier = 0.937\n"
          ]
        }
      ]
    },
    {
      "cell_type": "markdown",
      "source": [
        "We got better results with RandomForest classifier.\n",
        "\n",
        "Using balanced class weight, helped to improve the score with 1%"
      ],
      "metadata": {
        "id": "8nFb1mdGsgSM"
      }
    },
    {
      "cell_type": "markdown",
      "source": [
        "### XGBoost classifier"
      ],
      "metadata": {
        "id": "7QRW1QD2syYn"
      }
    },
    {
      "cell_type": "code",
      "source": [
        "xg_clf = XGBClassifier(random_state=SEED)\n",
        "result_dict = evaluate_model(xg_clf, X_train, y_train, skf)\n",
        "results_by_model = results_by_model.append(result_dict, ignore_index=True)"
      ],
      "metadata": {
        "id": "CZVy2LGLLDVA",
        "colab": {
          "base_uri": "https://localhost:8080/"
        },
        "outputId": "526cd7ee-6fd4-4ea9-e132-47a6bba1454a"
      },
      "execution_count": null,
      "outputs": [
        {
          "output_type": "stream",
          "name": "stdout",
          "text": [
            "roc_auc_score for model XGBClassifier = 0.996\n"
          ]
        }
      ]
    },
    {
      "cell_type": "code",
      "source": [
        "def objective(space):\n",
        "  params = {\n",
        "    'colsample_bytree': '{:.3f}'.format(space['colsample_bytree']),\n",
        "    'learning_rate': '{:.3f}'.format(space['learning_rate']),\n",
        "    'alpha':  '{:.3f}'.format(space['alpha']),\n",
        "    'n_estimators': space['n_estimators']\n",
        "  }\n",
        "\n",
        "  clf = XGBClassifier(objective='binary:logistic', random_state=SEED, **params)\n",
        "\n",
        "  score = cross_val_score(clf, X_train, y_train, scoring='roc_auc', cv=skf).mean()\n",
        "\n",
        "  print(\"AUC {:.3f} params {}\".format(score, params))\n",
        "  return {'loss':1-score, 'status': STATUS_OK}\n",
        "\n",
        "space = {\n",
        "    'colsample_bytree': hp.uniform('colsample_bytree', 0.3, 1.0),\n",
        "    'learning_rate': hp.uniform('learning_rate', 0, 1),\n",
        "    'alpha':  hp.uniform('alpha', 0, 10),\n",
        "    'n_estimators': hp.choice('n_estimators', [100, 1000, 3000])\n",
        "}\n",
        "\n",
        "best = fmin(fn=objective, space=space, algo=tpe.suggest, max_evals=10)"
      ],
      "metadata": {
        "colab": {
          "base_uri": "https://localhost:8080/"
        },
        "id": "xjCTi3Dx0tYk",
        "outputId": "1f19db17-3549-4041-819a-87a93c41760c"
      },
      "execution_count": null,
      "outputs": [
        {
          "output_type": "stream",
          "name": "stdout",
          "text": [
            "AUC 0.995 params {'colsample_bytree': '0.348', 'learning_rate': '0.227', 'alpha': '2.523', 'n_estimators': 100}\n",
            "AUC 0.996 params {'colsample_bytree': '0.585', 'learning_rate': '0.559', 'alpha': '7.021', 'n_estimators': 100}\n",
            "AUC 0.996 params {'colsample_bytree': '0.514', 'learning_rate': '0.407', 'alpha': '3.696', 'n_estimators': 100}\n",
            "AUC 0.995 params {'colsample_bytree': '0.418', 'learning_rate': '0.381', 'alpha': '9.294', 'n_estimators': 1000}\n",
            "AUC 0.997 params {'colsample_bytree': '0.477', 'learning_rate': '0.314', 'alpha': '0.362', 'n_estimators': 1000}\n",
            "AUC 0.994 params {'colsample_bytree': '0.937', 'learning_rate': '0.162', 'alpha': '9.536', 'n_estimators': 100}\n",
            "AUC 0.996 params {'colsample_bytree': '0.710', 'learning_rate': '0.735', 'alpha': '1.202', 'n_estimators': 100}\n",
            "AUC 0.994 params {'colsample_bytree': '0.603', 'learning_rate': '0.717', 'alpha': '9.642', 'n_estimators': 3000}\n",
            "AUC 0.994 params {'colsample_bytree': '0.319', 'learning_rate': '0.043', 'alpha': '8.900', 'n_estimators': 1000}\n",
            "AUC 0.995 params {'colsample_bytree': '0.428', 'learning_rate': '0.466', 'alpha': '8.657', 'n_estimators': 100}\n",
            "100%|██████████| 10/10 [11:07<00:00, 66.78s/trial, best loss: 0.0033160090591450864]\n"
          ]
        }
      ]
    },
    {
      "cell_type": "code",
      "source": [
        "best_xg = XGBClassifier(objective='binary:logistic', random_state=42,\n",
        "                            alpha=best['alpha'],\n",
        "                            colsample_bytree = best['colsample_bytree'],\n",
        "                            learning_rate = best['learning_rate'],\n",
        "                            n_estimators=1000\n",
        "                            )\n",
        "\n",
        "result_dict = evaluate_model(best_xg, X_train, y_train, skf)\n",
        "results_by_model = results_by_model.append(result_dict, ignore_index=True)"
      ],
      "metadata": {
        "colab": {
          "base_uri": "https://localhost:8080/"
        },
        "id": "ce9JXCni0xVP",
        "outputId": "8ac7050a-520c-444f-f1e6-3d0d382b073f"
      },
      "execution_count": null,
      "outputs": [
        {
          "output_type": "stream",
          "name": "stdout",
          "text": [
            "roc_auc_score for model XGBClassifier = 0.997\n"
          ]
        }
      ]
    },
    {
      "cell_type": "markdown",
      "source": [
        "### CATBoost classifier"
      ],
      "metadata": {
        "id": "RaJ7Nj48s8oz"
      }
    },
    {
      "cell_type": "code",
      "source": [
        "cat_clf = CatBoostClassifier(verbose=False, random_state=42)\n",
        "result_dict = evaluate_model(cat_clf, X_train, y_train, skf)\n",
        "results_by_model = results_by_model.append(result_dict, ignore_index=True)"
      ],
      "metadata": {
        "colab": {
          "base_uri": "https://localhost:8080/"
        },
        "id": "Nvrioy_Z90rq",
        "outputId": "ea7a3b2c-d534-4624-a96b-34ff1498c1ea"
      },
      "execution_count": null,
      "outputs": [
        {
          "output_type": "stream",
          "name": "stdout",
          "text": [
            "roc_auc_score for model CatBoostClassifier = 0.990\n"
          ]
        }
      ]
    },
    {
      "cell_type": "markdown",
      "source": [
        "### LightGBM Classifier"
      ],
      "metadata": {
        "id": "uquNRExLtEQL"
      }
    },
    {
      "cell_type": "code",
      "source": [
        "lgb_clf_ib = LGBMClassifier(n_estimators=1000, random_state=42, is_unbalance=True)\n",
        "result_dict = evaluate_model(lgb_clf, X_train.astype('float32'), y_train.astype('float32'), skf)\n",
        "results_by_model = results_by_model.append(result_dict, ignore_index=True)"
      ],
      "metadata": {
        "colab": {
          "base_uri": "https://localhost:8080/"
        },
        "id": "j-eNl4pMZjh-",
        "outputId": "21b5ca58-d338-4d65-c189-de241e0478aa"
      },
      "execution_count": null,
      "outputs": [
        {
          "output_type": "stream",
          "name": "stdout",
          "text": [
            "[LightGBM] [Info] Number of positive: 1575, number of negative: 158394\n",
            "[LightGBM] [Info] Auto-choosing row-wise multi-threading, the overhead of testing was 20.280874 seconds.\n",
            "You can set `force_row_wise=true` to remove the overhead.\n",
            "And if memory is not enough, you can set `force_col_wise=true`.\n",
            "[LightGBM] [Info] Total Bins 33727\n",
            "[LightGBM] [Info] Number of data points in the train set: 159969, number of used features: 9336\n",
            "[LightGBM] [Info] [binary:BoostFromScore]: pavg=0.009846 -> initscore=-4.610830\n",
            "[LightGBM] [Info] Start training from score -4.610830\n",
            "[LightGBM] [Info] Number of positive: 1260, number of negative: 126715\n",
            "[LightGBM] [Info] Auto-choosing row-wise multi-threading, the overhead of testing was 14.979315 seconds.\n",
            "You can set `force_row_wise=true` to remove the overhead.\n",
            "And if memory is not enough, you can set `force_col_wise=true`.\n",
            "[LightGBM] [Info] Total Bins 31569\n",
            "[LightGBM] [Info] Number of data points in the train set: 127975, number of used features: 9081\n",
            "[LightGBM] [Info] [binary:BoostFromScore]: pavg=0.009846 -> initscore=-4.610829\n",
            "[LightGBM] [Info] Start training from score -4.610829\n",
            "[LightGBM] [Info] Number of positive: 1260, number of negative: 126715\n",
            "[LightGBM] [Info] Auto-choosing row-wise multi-threading, the overhead of testing was 14.682179 seconds.\n",
            "You can set `force_row_wise=true` to remove the overhead.\n",
            "And if memory is not enough, you can set `force_col_wise=true`.\n",
            "[LightGBM] [Info] Total Bins 31612\n",
            "[LightGBM] [Info] Number of data points in the train set: 127975, number of used features: 9068\n",
            "[LightGBM] [Info] [binary:BoostFromScore]: pavg=0.009846 -> initscore=-4.610829\n",
            "[LightGBM] [Info] Start training from score -4.610829\n",
            "[LightGBM] [Info] Number of positive: 1260, number of negative: 126715\n",
            "[LightGBM] [Info] Auto-choosing row-wise multi-threading, the overhead of testing was 14.803485 seconds.\n",
            "You can set `force_row_wise=true` to remove the overhead.\n",
            "And if memory is not enough, you can set `force_col_wise=true`.\n",
            "[LightGBM] [Info] Total Bins 31568\n",
            "[LightGBM] [Info] Number of data points in the train set: 127975, number of used features: 9076\n",
            "[LightGBM] [Info] [binary:BoostFromScore]: pavg=0.009846 -> initscore=-4.610829\n",
            "[LightGBM] [Info] Start training from score -4.610829\n",
            "[LightGBM] [Info] Number of positive: 1260, number of negative: 126715\n",
            "[LightGBM] [Info] Auto-choosing row-wise multi-threading, the overhead of testing was 15.068780 seconds.\n",
            "You can set `force_row_wise=true` to remove the overhead.\n",
            "And if memory is not enough, you can set `force_col_wise=true`.\n",
            "[LightGBM] [Info] Total Bins 31616\n",
            "[LightGBM] [Info] Number of data points in the train set: 127975, number of used features: 9090\n",
            "[LightGBM] [Info] [binary:BoostFromScore]: pavg=0.009846 -> initscore=-4.610829\n",
            "[LightGBM] [Info] Start training from score -4.610829\n",
            "[LightGBM] [Info] Number of positive: 1260, number of negative: 126716\n",
            "[LightGBM] [Info] Auto-choosing row-wise multi-threading, the overhead of testing was 15.065166 seconds.\n",
            "You can set `force_row_wise=true` to remove the overhead.\n",
            "And if memory is not enough, you can set `force_col_wise=true`.\n",
            "[LightGBM] [Info] Total Bins 31526\n",
            "[LightGBM] [Info] Number of data points in the train set: 127976, number of used features: 9061\n",
            "[LightGBM] [Info] [binary:BoostFromScore]: pavg=0.009846 -> initscore=-4.610837\n",
            "[LightGBM] [Info] Start training from score -4.610837\n",
            "roc_auc_score for model LGBMClassifier = 0.996\n"
          ]
        }
      ]
    },
    {
      "cell_type": "code",
      "source": [
        "lgb_clf = LGBMClassifier(n_estimators=1000, random_state=42, is_unbalance=True)\n",
        "result_dict = evaluate_model(lgb_clf, X_train.astype('float32'), y_train.astype('float32'), skf)\n",
        "results_by_model = results_by_model.append(result_dict, ignore_index=True)"
      ],
      "metadata": {
        "id": "EhGZO3DZLDRd",
        "colab": {
          "base_uri": "https://localhost:8080/"
        },
        "outputId": "effa9c94-145f-48df-f602-469b7199dfed"
      },
      "execution_count": null,
      "outputs": [
        {
          "output_type": "stream",
          "name": "stdout",
          "text": [
            "[LightGBM] [Info] Number of positive: 1575, number of negative: 158394\n",
            "[LightGBM] [Info] Auto-choosing row-wise multi-threading, the overhead of testing was 18.704832 seconds.\n",
            "You can set `force_row_wise=true` to remove the overhead.\n",
            "And if memory is not enough, you can set `force_col_wise=true`.\n",
            "[LightGBM] [Info] Total Bins 33727\n",
            "[LightGBM] [Info] Number of data points in the train set: 159969, number of used features: 9336\n",
            "[LightGBM] [Info] [binary:BoostFromScore]: pavg=0.009846 -> initscore=-4.610830\n",
            "[LightGBM] [Info] Start training from score -4.610830\n",
            "[LightGBM] [Info] Number of positive: 1260, number of negative: 126715\n",
            "[LightGBM] [Info] Auto-choosing row-wise multi-threading, the overhead of testing was 14.914808 seconds.\n",
            "You can set `force_row_wise=true` to remove the overhead.\n",
            "And if memory is not enough, you can set `force_col_wise=true`.\n",
            "[LightGBM] [Info] Total Bins 31569\n",
            "[LightGBM] [Info] Number of data points in the train set: 127975, number of used features: 9081\n",
            "[LightGBM] [Info] [binary:BoostFromScore]: pavg=0.009846 -> initscore=-4.610829\n",
            "[LightGBM] [Info] Start training from score -4.610829\n",
            "[LightGBM] [Info] Number of positive: 1260, number of negative: 126715\n",
            "[LightGBM] [Info] Auto-choosing row-wise multi-threading, the overhead of testing was 14.555398 seconds.\n",
            "You can set `force_row_wise=true` to remove the overhead.\n",
            "And if memory is not enough, you can set `force_col_wise=true`.\n",
            "[LightGBM] [Info] Total Bins 31612\n",
            "[LightGBM] [Info] Number of data points in the train set: 127975, number of used features: 9068\n",
            "[LightGBM] [Info] [binary:BoostFromScore]: pavg=0.009846 -> initscore=-4.610829\n",
            "[LightGBM] [Info] Start training from score -4.610829\n",
            "[LightGBM] [Info] Number of positive: 1260, number of negative: 126715\n",
            "[LightGBM] [Info] Auto-choosing row-wise multi-threading, the overhead of testing was 15.209041 seconds.\n",
            "You can set `force_row_wise=true` to remove the overhead.\n",
            "And if memory is not enough, you can set `force_col_wise=true`.\n",
            "[LightGBM] [Info] Total Bins 31568\n",
            "[LightGBM] [Info] Number of data points in the train set: 127975, number of used features: 9076\n",
            "[LightGBM] [Info] [binary:BoostFromScore]: pavg=0.009846 -> initscore=-4.610829\n",
            "[LightGBM] [Info] Start training from score -4.610829\n",
            "[LightGBM] [Info] Number of positive: 1260, number of negative: 126715\n",
            "[LightGBM] [Info] Auto-choosing row-wise multi-threading, the overhead of testing was 15.378246 seconds.\n",
            "You can set `force_row_wise=true` to remove the overhead.\n",
            "And if memory is not enough, you can set `force_col_wise=true`.\n",
            "[LightGBM] [Info] Total Bins 31616\n",
            "[LightGBM] [Info] Number of data points in the train set: 127975, number of used features: 9090\n",
            "[LightGBM] [Info] [binary:BoostFromScore]: pavg=0.009846 -> initscore=-4.610829\n",
            "[LightGBM] [Info] Start training from score -4.610829\n",
            "[LightGBM] [Info] Number of positive: 1260, number of negative: 126716\n",
            "[LightGBM] [Info] Auto-choosing row-wise multi-threading, the overhead of testing was 15.328669 seconds.\n",
            "You can set `force_row_wise=true` to remove the overhead.\n",
            "And if memory is not enough, you can set `force_col_wise=true`.\n",
            "[LightGBM] [Info] Total Bins 31526\n",
            "[LightGBM] [Info] Number of data points in the train set: 127976, number of used features: 9061\n",
            "[LightGBM] [Info] [binary:BoostFromScore]: pavg=0.009846 -> initscore=-4.610837\n",
            "[LightGBM] [Info] Start training from score -4.610837\n",
            "roc_auc_score for model LGBMClassifier = 0.996\n"
          ]
        }
      ]
    },
    {
      "cell_type": "markdown",
      "source": [
        "### Results"
      ],
      "metadata": {
        "id": "Ew-d_9FotK8H"
      }
    },
    {
      "cell_type": "code",
      "source": [
        "results_by_model.sort_values(by='roc_auc_score', ascending=False)"
      ],
      "metadata": {
        "id": "KX0ym4eZBbhR",
        "colab": {
          "base_uri": "https://localhost:8080/",
          "height": 238
        },
        "outputId": "ae964c60-3ba6-4a54-8595-6d38aaef246f"
      },
      "execution_count": null,
      "outputs": [
        {
          "output_type": "execute_result",
          "data": {
            "text/plain": [
              "   roc_auc_score              classifier\n",
              "3       0.996602           XGBClassifier\n",
              "5       0.996095          LGBMClassifier\n",
              "2       0.995573           XGBClassifier\n",
              "4       0.990168      CatBoostClassifier\n",
              "0       0.829004  DecisionTreeClassifier\n",
              "1       0.821709  DecisionTreeClassifier"
            ],
            "text/html": [
              "\n",
              "  <div id=\"df-4b56a194-3e0c-49b4-ae3c-fef30834dc82\" class=\"colab-df-container\">\n",
              "    <div>\n",
              "<style scoped>\n",
              "    .dataframe tbody tr th:only-of-type {\n",
              "        vertical-align: middle;\n",
              "    }\n",
              "\n",
              "    .dataframe tbody tr th {\n",
              "        vertical-align: top;\n",
              "    }\n",
              "\n",
              "    .dataframe thead th {\n",
              "        text-align: right;\n",
              "    }\n",
              "</style>\n",
              "<table border=\"1\" class=\"dataframe\">\n",
              "  <thead>\n",
              "    <tr style=\"text-align: right;\">\n",
              "      <th></th>\n",
              "      <th>roc_auc_score</th>\n",
              "      <th>classifier</th>\n",
              "    </tr>\n",
              "  </thead>\n",
              "  <tbody>\n",
              "    <tr>\n",
              "      <th>3</th>\n",
              "      <td>0.996602</td>\n",
              "      <td>XGBClassifier</td>\n",
              "    </tr>\n",
              "    <tr>\n",
              "      <th>5</th>\n",
              "      <td>0.996095</td>\n",
              "      <td>LGBMClassifier</td>\n",
              "    </tr>\n",
              "    <tr>\n",
              "      <th>2</th>\n",
              "      <td>0.995573</td>\n",
              "      <td>XGBClassifier</td>\n",
              "    </tr>\n",
              "    <tr>\n",
              "      <th>4</th>\n",
              "      <td>0.990168</td>\n",
              "      <td>CatBoostClassifier</td>\n",
              "    </tr>\n",
              "    <tr>\n",
              "      <th>0</th>\n",
              "      <td>0.829004</td>\n",
              "      <td>DecisionTreeClassifier</td>\n",
              "    </tr>\n",
              "    <tr>\n",
              "      <th>1</th>\n",
              "      <td>0.821709</td>\n",
              "      <td>DecisionTreeClassifier</td>\n",
              "    </tr>\n",
              "  </tbody>\n",
              "</table>\n",
              "</div>\n",
              "    <div class=\"colab-df-buttons\">\n",
              "\n",
              "  <div class=\"colab-df-container\">\n",
              "    <button class=\"colab-df-convert\" onclick=\"convertToInteractive('df-4b56a194-3e0c-49b4-ae3c-fef30834dc82')\"\n",
              "            title=\"Convert this dataframe to an interactive table.\"\n",
              "            style=\"display:none;\">\n",
              "\n",
              "  <svg xmlns=\"http://www.w3.org/2000/svg\" height=\"24px\" viewBox=\"0 -960 960 960\">\n",
              "    <path d=\"M120-120v-720h720v720H120Zm60-500h600v-160H180v160Zm220 220h160v-160H400v160Zm0 220h160v-160H400v160ZM180-400h160v-160H180v160Zm440 0h160v-160H620v160ZM180-180h160v-160H180v160Zm440 0h160v-160H620v160Z\"/>\n",
              "  </svg>\n",
              "    </button>\n",
              "\n",
              "  <style>\n",
              "    .colab-df-container {\n",
              "      display:flex;\n",
              "      gap: 12px;\n",
              "    }\n",
              "\n",
              "    .colab-df-convert {\n",
              "      background-color: #E8F0FE;\n",
              "      border: none;\n",
              "      border-radius: 50%;\n",
              "      cursor: pointer;\n",
              "      display: none;\n",
              "      fill: #1967D2;\n",
              "      height: 32px;\n",
              "      padding: 0 0 0 0;\n",
              "      width: 32px;\n",
              "    }\n",
              "\n",
              "    .colab-df-convert:hover {\n",
              "      background-color: #E2EBFA;\n",
              "      box-shadow: 0px 1px 2px rgba(60, 64, 67, 0.3), 0px 1px 3px 1px rgba(60, 64, 67, 0.15);\n",
              "      fill: #174EA6;\n",
              "    }\n",
              "\n",
              "    .colab-df-buttons div {\n",
              "      margin-bottom: 4px;\n",
              "    }\n",
              "\n",
              "    [theme=dark] .colab-df-convert {\n",
              "      background-color: #3B4455;\n",
              "      fill: #D2E3FC;\n",
              "    }\n",
              "\n",
              "    [theme=dark] .colab-df-convert:hover {\n",
              "      background-color: #434B5C;\n",
              "      box-shadow: 0px 1px 3px 1px rgba(0, 0, 0, 0.15);\n",
              "      filter: drop-shadow(0px 1px 2px rgba(0, 0, 0, 0.3));\n",
              "      fill: #FFFFFF;\n",
              "    }\n",
              "  </style>\n",
              "\n",
              "    <script>\n",
              "      const buttonEl =\n",
              "        document.querySelector('#df-4b56a194-3e0c-49b4-ae3c-fef30834dc82 button.colab-df-convert');\n",
              "      buttonEl.style.display =\n",
              "        google.colab.kernel.accessAllowed ? 'block' : 'none';\n",
              "\n",
              "      async function convertToInteractive(key) {\n",
              "        const element = document.querySelector('#df-4b56a194-3e0c-49b4-ae3c-fef30834dc82');\n",
              "        const dataTable =\n",
              "          await google.colab.kernel.invokeFunction('convertToInteractive',\n",
              "                                                    [key], {});\n",
              "        if (!dataTable) return;\n",
              "\n",
              "        const docLinkHtml = 'Like what you see? Visit the ' +\n",
              "          '<a target=\"_blank\" href=https://colab.research.google.com/notebooks/data_table.ipynb>data table notebook</a>'\n",
              "          + ' to learn more about interactive tables.';\n",
              "        element.innerHTML = '';\n",
              "        dataTable['output_type'] = 'display_data';\n",
              "        await google.colab.output.renderOutput(dataTable, element);\n",
              "        const docLink = document.createElement('div');\n",
              "        docLink.innerHTML = docLinkHtml;\n",
              "        element.appendChild(docLink);\n",
              "      }\n",
              "    </script>\n",
              "  </div>\n",
              "\n",
              "\n",
              "<div id=\"df-93764e0f-ddfc-40ca-acd7-c4d12f6df406\">\n",
              "  <button class=\"colab-df-quickchart\" onclick=\"quickchart('df-93764e0f-ddfc-40ca-acd7-c4d12f6df406')\"\n",
              "            title=\"Suggest charts\"\n",
              "            style=\"display:none;\">\n",
              "\n",
              "<svg xmlns=\"http://www.w3.org/2000/svg\" height=\"24px\"viewBox=\"0 0 24 24\"\n",
              "     width=\"24px\">\n",
              "    <g>\n",
              "        <path d=\"M19 3H5c-1.1 0-2 .9-2 2v14c0 1.1.9 2 2 2h14c1.1 0 2-.9 2-2V5c0-1.1-.9-2-2-2zM9 17H7v-7h2v7zm4 0h-2V7h2v10zm4 0h-2v-4h2v4z\"/>\n",
              "    </g>\n",
              "</svg>\n",
              "  </button>\n",
              "\n",
              "<style>\n",
              "  .colab-df-quickchart {\n",
              "      --bg-color: #E8F0FE;\n",
              "      --fill-color: #1967D2;\n",
              "      --hover-bg-color: #E2EBFA;\n",
              "      --hover-fill-color: #174EA6;\n",
              "      --disabled-fill-color: #AAA;\n",
              "      --disabled-bg-color: #DDD;\n",
              "  }\n",
              "\n",
              "  [theme=dark] .colab-df-quickchart {\n",
              "      --bg-color: #3B4455;\n",
              "      --fill-color: #D2E3FC;\n",
              "      --hover-bg-color: #434B5C;\n",
              "      --hover-fill-color: #FFFFFF;\n",
              "      --disabled-bg-color: #3B4455;\n",
              "      --disabled-fill-color: #666;\n",
              "  }\n",
              "\n",
              "  .colab-df-quickchart {\n",
              "    background-color: var(--bg-color);\n",
              "    border: none;\n",
              "    border-radius: 50%;\n",
              "    cursor: pointer;\n",
              "    display: none;\n",
              "    fill: var(--fill-color);\n",
              "    height: 32px;\n",
              "    padding: 0;\n",
              "    width: 32px;\n",
              "  }\n",
              "\n",
              "  .colab-df-quickchart:hover {\n",
              "    background-color: var(--hover-bg-color);\n",
              "    box-shadow: 0 1px 2px rgba(60, 64, 67, 0.3), 0 1px 3px 1px rgba(60, 64, 67, 0.15);\n",
              "    fill: var(--button-hover-fill-color);\n",
              "  }\n",
              "\n",
              "  .colab-df-quickchart-complete:disabled,\n",
              "  .colab-df-quickchart-complete:disabled:hover {\n",
              "    background-color: var(--disabled-bg-color);\n",
              "    fill: var(--disabled-fill-color);\n",
              "    box-shadow: none;\n",
              "  }\n",
              "\n",
              "  .colab-df-spinner {\n",
              "    border: 2px solid var(--fill-color);\n",
              "    border-color: transparent;\n",
              "    border-bottom-color: var(--fill-color);\n",
              "    animation:\n",
              "      spin 1s steps(1) infinite;\n",
              "  }\n",
              "\n",
              "  @keyframes spin {\n",
              "    0% {\n",
              "      border-color: transparent;\n",
              "      border-bottom-color: var(--fill-color);\n",
              "      border-left-color: var(--fill-color);\n",
              "    }\n",
              "    20% {\n",
              "      border-color: transparent;\n",
              "      border-left-color: var(--fill-color);\n",
              "      border-top-color: var(--fill-color);\n",
              "    }\n",
              "    30% {\n",
              "      border-color: transparent;\n",
              "      border-left-color: var(--fill-color);\n",
              "      border-top-color: var(--fill-color);\n",
              "      border-right-color: var(--fill-color);\n",
              "    }\n",
              "    40% {\n",
              "      border-color: transparent;\n",
              "      border-right-color: var(--fill-color);\n",
              "      border-top-color: var(--fill-color);\n",
              "    }\n",
              "    60% {\n",
              "      border-color: transparent;\n",
              "      border-right-color: var(--fill-color);\n",
              "    }\n",
              "    80% {\n",
              "      border-color: transparent;\n",
              "      border-right-color: var(--fill-color);\n",
              "      border-bottom-color: var(--fill-color);\n",
              "    }\n",
              "    90% {\n",
              "      border-color: transparent;\n",
              "      border-bottom-color: var(--fill-color);\n",
              "    }\n",
              "  }\n",
              "</style>\n",
              "\n",
              "  <script>\n",
              "    async function quickchart(key) {\n",
              "      const quickchartButtonEl =\n",
              "        document.querySelector('#' + key + ' button');\n",
              "      quickchartButtonEl.disabled = true;  // To prevent multiple clicks.\n",
              "      quickchartButtonEl.classList.add('colab-df-spinner');\n",
              "      try {\n",
              "        const charts = await google.colab.kernel.invokeFunction(\n",
              "            'suggestCharts', [key], {});\n",
              "      } catch (error) {\n",
              "        console.error('Error during call to suggestCharts:', error);\n",
              "      }\n",
              "      quickchartButtonEl.classList.remove('colab-df-spinner');\n",
              "      quickchartButtonEl.classList.add('colab-df-quickchart-complete');\n",
              "    }\n",
              "    (() => {\n",
              "      let quickchartButtonEl =\n",
              "        document.querySelector('#df-93764e0f-ddfc-40ca-acd7-c4d12f6df406 button');\n",
              "      quickchartButtonEl.style.display =\n",
              "        google.colab.kernel.accessAllowed ? 'block' : 'none';\n",
              "    })();\n",
              "  </script>\n",
              "</div>\n",
              "    </div>\n",
              "  </div>\n"
            ]
          },
          "metadata": {},
          "execution_count": 57
        }
      ]
    },
    {
      "cell_type": "markdown",
      "source": [
        "We got the best results with XGB Classifier.\n",
        "\n",
        "The results are similar on the predictions of test data.\n",
        "\n",
        "(ROC AUC on test data: 0.95154)"
      ],
      "metadata": {
        "id": "PjV17k3ptOZl"
      }
    },
    {
      "cell_type": "markdown",
      "source": [
        "### Generating output file"
      ],
      "metadata": {
        "id": "UvVYgvt1trzN"
      }
    },
    {
      "cell_type": "code",
      "source": [
        "output = best_xg.predict_proba(X_test)"
      ],
      "metadata": {
        "id": "Ngu5lKgtLDOR"
      },
      "execution_count": null,
      "outputs": []
    },
    {
      "cell_type": "code",
      "source": [
        "pd_output = pd.DataFrame({'session_id':test_data.index, 'target':output[:,1]})"
      ],
      "metadata": {
        "id": "S6qsnJWBLDCp"
      },
      "execution_count": null,
      "outputs": []
    },
    {
      "cell_type": "code",
      "source": [
        "pd_output.to_csv('/content/gdrive/MyDrive/Data_Science_mentoring/07_classification_3/submission.csv', header=True, index=False)"
      ],
      "metadata": {
        "id": "5UDXIWnwLDFu"
      },
      "execution_count": null,
      "outputs": []
    },
    {
      "cell_type": "code",
      "source": [
        "!kaggle competitions submit -c hbdsc-classification-3-challenge -f submission.csv -m \"Message\""
      ],
      "metadata": {
        "id": "FDmJ2guwLC6A"
      },
      "execution_count": null,
      "outputs": []
    }
  ]
}